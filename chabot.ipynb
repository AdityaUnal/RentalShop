{
 "cells": [
  {
   "cell_type": "markdown",
   "metadata": {},
   "source": [
    "# Basic Chatbot\n",
    "- This is a simple chatbot that answers basic questions\n",
    "- It is also able to do basic tasks\n"
   ]
  },
  {
   "cell_type": "code",
   "execution_count": 279,
   "metadata": {},
   "outputs": [],
   "source": [
    "from dotenv import load_dotenv\n",
    "import os\n",
    "load_dotenv()\n",
    "\n",
    "tavily_api_key = os.getenv('TAVILY_API_KEY')\n",
    "load_dotenv()\n",
    "hf_api_key = os.getenv('HUGGINGFACE_API_KEY')"
   ]
  },
  {
   "cell_type": "code",
   "execution_count": 280,
   "metadata": {},
   "outputs": [],
   "source": [
    "from langchain_huggingface.llms import HuggingFaceEndpoint\n",
    "from langchain_huggingface import ChatHuggingFace\n",
    "\n",
    "from langchain_huggingface import HuggingFaceEmbeddings\n",
    "import torch\n",
    "\n",
    "embedding_model_name = 'sentence-transformers/all-MiniLM-L6-v2'\n",
    "device = \"cuda\" if torch.cuda.is_available() else \"cpu\"\n",
    "\n",
    "embedding_model = HuggingFaceEmbeddings(\n",
    "model_name=embedding_model_name, model_kwargs={'device': device})\n",
    "max_length = embedding_model._client.tokenizer.model_max_length - 50\n",
    "\n",
    "llm_model_name = \"mistralai/Mixtral-8x7B-Instruct-v0.1\"\n",
    "llm = HuggingFaceEndpoint(\n",
    "    repo_id=llm_model_name,\n",
    "    task=\"conversational\",\n",
    "    huggingfacehub_api_token = hf_api_key\n",
    ")\n",
    "chat_llm = ChatHuggingFace(llm=llm)"
   ]
  },
  {
   "cell_type": "markdown",
   "metadata": {},
   "source": [
    "Sample Output by the llm"
   ]
  },
  {
   "cell_type": "code",
   "execution_count": 281,
   "metadata": {},
   "outputs": [
    {
     "name": "stdout",
     "output_type": "stream",
     "text": [
      "content=\" Sure, I'd be happy to! I am a large language model trained by Mistral AI, and my primary function is to assist users like you by providing information, answering questions, and engaging in conversation on a wide range of topics. I can help with things like:\\n\\n* Generating creative writing prompts\\n* Explaining complex concepts in simple terms\\n* Providing travel recommendations\\n* Answering trivia questions\\n* Assisting with language translation\\n* Offering tips for productivity and time management\\n* Providing inspiration for hobbies and interests\\n* Writing code in various programming languages\\n* Much more!\\n\\nI am available 24/7 and can interact with you in a variety of languages, including but not limited to English, French, Spanish, German, Italian, Dutch, Russian, Chinese, Japanese, and Korean. I am also designed to learn and adapt to your preferences and patterns over time, so the more you interact with me, the more personalized and useful I can become.\\n\\nOverall, my goal is to provide you with engaging, relevant, and high-quality information and support to enhance your productivity, creativity, and overall online experience.\" additional_kwargs={} response_metadata={'token_usage': {'completion_tokens': 247, 'prompt_tokens': 32, 'total_tokens': 279}, 'model_name': 'mistralai/Mixtral-8x7B-Instruct-v0.1', 'system_fingerprint': '3.2.1-sha-4d28897', 'finish_reason': 'stop', 'logprobs': None} id='run--2f89f593-3cef-44c6-8d12-f72ed0c94fa4-0' usage_metadata={'input_tokens': 32, 'output_tokens': 247, 'total_tokens': 279}\n"
     ]
    }
   ],
   "source": [
    "from langchain_core.messages import HumanMessage, AIMessage\n",
    "\n",
    "messages = [\n",
    "    HumanMessage(content=\"Hello!\"),\n",
    "    AIMessage(content=\"Hi! How can I assist you?\"),\n",
    "    HumanMessage(content=\"Tell me about your services.\")\n",
    "]\n",
    "print(chat_llm.invoke(messages))\n"
   ]
  },
  {
   "cell_type": "markdown",
   "metadata": {},
   "source": [
    "## Populating the database\n",
    "- The following script populates the sqlite database for the vehicle information\n",
    "- I have hard-coded vehicle information but a simple python block statment can allow the user to do the same : \n",
    "```python\n",
    "    while True:\n",
    "        again = input(\"Do you want to add a vehicle? (yes/no): \").strip().lower()\n",
    "        if again != \"yes\":\n",
    "            break\n",
    "        vehicle_data = get_vehicle_data()\n",
    "        add_vehicle(local_file,vehicle_data)\n",
    "```\n",
    "- I have also taken the liberty for manually writing the bookings."
   ]
  },
  {
   "cell_type": "markdown",
   "metadata": {},
   "source": [
    "### Populating Vehicle database"
   ]
  },
  {
   "cell_type": "code",
   "execution_count": 282,
   "metadata": {},
   "outputs": [],
   "source": [
    "from datetime import date, datetime, timedelta\n",
    "\n",
    "import sqlite3\n",
    "\n",
    "import pandas as pd"
   ]
  },
  {
   "cell_type": "code",
   "execution_count": 283,
   "metadata": {},
   "outputs": [],
   "source": [
    "sample_vehicles = [\n",
    "    {\n",
    "        'vehicle_id': 'SCORPIO001',\n",
    "        'vehicle_name': 'Mahindra Scorpio',\n",
    "        'vehicle_type': 'Car',\n",
    "        'vehicle_wheel_count': 4,\n",
    "        'vehicle_gear_type': '6-Speed Manual',\n",
    "        'vehicle_price_per_day': 5000.0,\n",
    "        'vehicle_price_per_hour': 500.0,\n",
    "        'vehicle_description': 'Powerful SUV good for all types of terrain including hills and rough roads',\n",
    "        'vehicle_mileage': 12.0,\n",
    "        'vehicle_fuel_type': 'Diesel',\n",
    "        'vehicle_transmission': 'Manual',\n",
    "        'vehicle_seating_capacity': 7,\n",
    "        'vehicle_user_rating': 4.5,\n",
    "        'vehicle_usage': 2,\n",
    "        'vehicle_user_feedback': 'Great for family trips and adventure rides'\n",
    "    },\n",
    "    {\n",
    "        'vehicle_id': 'RE_CLASSIC_001',\n",
    "        'vehicle_name': 'Royal Enfield Classic 350',\n",
    "        'vehicle_type': 'Bike',\n",
    "        'vehicle_wheel_count': 2,\n",
    "        'vehicle_gear_type': '5-Speed Manual',\n",
    "        'vehicle_price_per_day': 1500.0,\n",
    "        'vehicle_price_per_hour': 100.0,\n",
    "        'vehicle_description': 'Classic motorcycle good for long rides and heavy loads',\n",
    "        'vehicle_mileage': 35.0,\n",
    "        'vehicle_fuel_type': 'Petrol',\n",
    "        'vehicle_transmission': 'Manual',\n",
    "        'vehicle_seating_capacity': 2,\n",
    "        'vehicle_user_rating': 4.2,\n",
    "        'vehicle_usage': 8,\n",
    "        'vehicle_user_feedback': 'Classic thumping sound and comfortable for long rides'\n",
    "    },\n",
    "    {\n",
    "        'vehicle_id': 'ACTIVA_001',\n",
    "        'vehicle_name': 'Honda Activa 6G',\n",
    "        'vehicle_type': 'Scooty',\n",
    "        'vehicle_wheel_count': 2,\n",
    "        'vehicle_gear_type': 'Non-Gear',\n",
    "        'vehicle_price_per_day': 800.0,\n",
    "        'vehicle_price_per_hour': 60.0,\n",
    "        'vehicle_description': 'Perfect for city rides and nearby locations',\n",
    "        'vehicle_mileage': 50.0,\n",
    "        'vehicle_fuel_type': 'Petrol',\n",
    "        'vehicle_transmission': 'Automatic',\n",
    "        'vehicle_seating_capacity': 2,\n",
    "        'vehicle_user_rating': 4.3,\n",
    "        'vehicle_usage': 90,\n",
    "        'vehicle_user_feedback': 'Very fuel efficient and easy to ride'\n",
    "    },\n",
    "    {\n",
    "        'vehicle_id': 'SWIFT_001',\n",
    "        'vehicle_name': 'Maruti Swift',\n",
    "        'vehicle_type': 'Car',\n",
    "        'vehicle_wheel_count': 4,\n",
    "        'vehicle_gear_type': '5-Speed Manual',\n",
    "        'vehicle_price_per_day': 2500.0,\n",
    "        'vehicle_price_per_hour': 200.0,\n",
    "        'vehicle_description': 'Compact car perfect for city driving and small families',\n",
    "        'vehicle_mileage': 22.0,\n",
    "        'vehicle_fuel_type': 'Petrol',\n",
    "        'vehicle_transmission': 'Manual',\n",
    "        'vehicle_seating_capacity': 5,\n",
    "        'vehicle_user_rating': 4.1,\n",
    "        'vehicle_usage': 43,\n",
    "        'vehicle_user_feedback': 'Good mileage and comfortable for city rides'\n",
    "    },\n",
    "    {\n",
    "        'vehicle_id': 'PULSAR_001',\n",
    "        'vehicle_name': 'Bajaj Pulsar 150',\n",
    "        'vehicle_type': 'Bike',\n",
    "        'vehicle_wheel_count': 2,\n",
    "        'vehicle_gear_type': '5-Speed Manual',\n",
    "        'vehicle_price_per_day': 1000.0,\n",
    "        'vehicle_price_per_hour': 80.0,\n",
    "        'vehicle_description': 'Sporty bike good for daily commuting and weekend rides',\n",
    "        'vehicle_mileage': 45.0,\n",
    "        'vehicle_fuel_type': 'Petrol',\n",
    "        'vehicle_transmission': 'Manual',\n",
    "        'vehicle_seating_capacity': 2,\n",
    "        'vehicle_user_rating': 4.0,\n",
    "        'vehicle_usage': 40,\n",
    "        'vehicle_user_feedback': 'Good performance and stylish design'\n",
    "    },\n",
    "    {\n",
    "        'vehicle_id': 'JUPITER_001',\n",
    "        'vehicle_name': 'TVS Jupiter',\n",
    "        'vehicle_type': 'Scooty',\n",
    "        'vehicle_wheel_count': 2,\n",
    "        'vehicle_gear_type': 'Non-Gear',\n",
    "        'vehicle_price_per_day': 700.0,\n",
    "        'vehicle_price_per_hour': 50.0,\n",
    "        'vehicle_description': 'Reliable scooter with good storage space',\n",
    "        'vehicle_mileage': 55.0,\n",
    "        'vehicle_fuel_type': 'Petrol',\n",
    "        'vehicle_transmission': 'Automatic',\n",
    "        'vehicle_seating_capacity': 2,\n",
    "        'vehicle_user_rating': 4.2,\n",
    "        'vehicle_usage': 10,\n",
    "        'vehicle_user_feedback': 'Excellent mileage and comfortable seat'\n",
    "    }\n",
    "]"
   ]
  },
  {
   "cell_type": "code",
   "execution_count": 284,
   "metadata": {},
   "outputs": [],
   "source": [
    "local_file = \"./db/vehicledb.sqlite\"\n",
    "\n",
    "\n",
    "def add_vehicle(file, vehicle_data):\n",
    "    conn = sqlite3.connect(file)\n",
    "    cursor = conn.cursor()\n",
    "\n",
    "    cursor.execute(\"\"\"\n",
    "    CREATE TABLE IF NOT EXISTS vehicles (\n",
    "        vehicle_id TEXT PRIMARY KEY,\n",
    "        vehicle_name TEXT,\n",
    "        vehicle_type TEXT,\n",
    "        vehicle_wheel_count INTEGER,\n",
    "        vehicle_gear_type TEXT,\n",
    "        vehicle_price_per_day REAL,\n",
    "        vehicle_price_per_hour REAL,\n",
    "        vehicle_description TEXT,\n",
    "        vehicle_mileage REAL,\n",
    "        vehicle_fuel_type TEXT,\n",
    "        vehicle_transmission TEXT,\n",
    "        vehicle_seating_capacity INTEGER,\n",
    "        vehicle_user_rating REAL,\n",
    "        vehicle_usage REAL,\n",
    "        vehicle_user_feedback TEXT\n",
    "    )\n",
    "\"\"\")\n",
    "    columns = ', '.join(vehicle_data.keys())\n",
    "    placeholders = ', '.join(['?'] * len(vehicle_data))\n",
    "    values = tuple(vehicle_data.values())\n",
    "    cursor.execute(\n",
    "        f\"INSERT OR IGNORE INTO vehicles ({columns}) VALUES ({placeholders})\",\n",
    "        values\n",
    "    )\n",
    "    conn.commit()\n",
    "    conn.close()\n",
    "\n",
    "\n",
    "for vehicle_data in sample_vehicles:\n",
    "    add_vehicle(local_file, vehicle_data)"
   ]
  },
  {
   "cell_type": "markdown",
   "metadata": {},
   "source": [
    "If a vehicle is new then the column for user rating and user feedback will be shown to user as none. This makes sure no misleading values are given keeping the data consistent. The user feedback is updated by sentiment analysis by the LLM."
   ]
  },
  {
   "cell_type": "markdown",
   "metadata": {},
   "source": [
    "Displays the existing vehicles in the db"
   ]
  },
  {
   "cell_type": "code",
   "execution_count": 285,
   "metadata": {},
   "outputs": [
    {
     "name": "stdout",
     "output_type": "stream",
     "text": [
      "+----+----------------+---------------------------+----------------+-----------------------+---------------------+-------------------------+--------------------------+----------------------------------------------------------------------------+-------------------+---------------------+------------------------+----------------------------+-----------------------+-----------------+-------------------------------------------------------------------------------------------------------------------------------------------------------------------------------------------------------------------------------------+\n",
      "|    | vehicle_id     | vehicle_name              | vehicle_type   |   vehicle_wheel_count | vehicle_gear_type   |   vehicle_price_per_day |   vehicle_price_per_hour | vehicle_description                                                        |   vehicle_mileage | vehicle_fuel_type   | vehicle_transmission   |   vehicle_seating_capacity |   vehicle_user_rating |   vehicle_usage | vehicle_user_feedback                                                                                                                                                                                                               |\n",
      "|----+----------------+---------------------------+----------------+-----------------------+---------------------+-------------------------+--------------------------+----------------------------------------------------------------------------+-------------------+---------------------+------------------------+----------------------------+-----------------------+-----------------+-------------------------------------------------------------------------------------------------------------------------------------------------------------------------------------------------------------------------------------|\n",
      "|  0 | SCORPIO001     | Mahindra Scorpio          | Car            |                     4 | 6-Speed Manual      |                    5000 |                      500 | Powerful SUV good for all types of terrain including hills and rough roads |                12 | Diesel              | Manual                 |                          7 |               4.54938 |               6 | \"The family-friendly resort provides enjoyment, particularly with its exciting car ride, but watch out for large crowds and occasional police presence. On a positive note, I was thrilled with the smooth and enjoyable car ride.\" |\n",
      "|  1 | RE_CLASSIC_001 | Royal Enfield Classic 350 | Bike           |                     2 | 5-Speed Manual      |                    1500 |                      100 | Classic motorcycle good for long rides and heavy loads                     |                35 | Petrol              | Manual                 |                          2 |               4.2     |               8 | Classic thumping sound and comfortable for long rides                                                                                                                                                                               |\n",
      "|  2 | ACTIVA_001     | Honda Activa 6G           | Scooty         |                     2 | Non-Gear            |                     800 |                       60 | Perfect for city rides and nearby locations                                |                50 | Petrol              | Automatic              |                          2 |               4.3     |              90 | Very fuel efficient and easy to ride                                                                                                                                                                                                |\n",
      "|  3 | SWIFT_001      | Maruti Swift              | Car            |                     4 | 5-Speed Manual      |                    2500 |                      200 | Compact car perfect for city driving and small families                    |                22 | Petrol              | Manual                 |                          5 |               4.1     |              43 | Good mileage and comfortable for city rides                                                                                                                                                                                         |\n",
      "|  4 | PULSAR_001     | Bajaj Pulsar 150          | Bike           |                     2 | 5-Speed Manual      |                    1000 |                       80 | Sporty bike good for daily commuting and weekend rides                     |                45 | Petrol              | Manual                 |                          2 |               4       |              40 | Good performance and stylish design                                                                                                                                                                                                 |\n",
      "|  5 | JUPITER_001    | TVS Jupiter               | Scooty         |                     2 | Non-Gear            |                     700 |                       50 | Reliable scooter with good storage space                                   |                55 | Petrol              | Automatic              |                          2 |               4.2     |              10 | Excellent mileage and comfortable seat                                                                                                                                                                                              |\n",
      "+----+----------------+---------------------------+----------------+-----------------------+---------------------+-------------------------+--------------------------+----------------------------------------------------------------------------+-------------------+---------------------+------------------------+----------------------------+-----------------------+-----------------+-------------------------------------------------------------------------------------------------------------------------------------------------------------------------------------------------------------------------------------+\n"
     ]
    }
   ],
   "source": [
    "from tabulate import tabulate\n",
    "\n",
    "conn = sqlite3.connect(\"db/vehicledb.sqlite\")\n",
    "df = pd.read_sql(\"SELECT * FROM vehicles\", conn)\n",
    "conn.close()\n",
    "\n",
    "print(tabulate(df, headers='keys', tablefmt='psql'))  # or 'fancy_grid', 'grid'"
   ]
  },
  {
   "cell_type": "markdown",
   "metadata": {},
   "source": [
    "## Populating bookings"
   ]
  },
  {
   "cell_type": "code",
   "execution_count": 286,
   "metadata": {},
   "outputs": [],
   "source": [
    "booking_data = [\n",
    "    {\n",
    "        \"booking_id\": \"BKG_JSON_001\",\n",
    "        \"customer_id\": \"CUST_J_001\",\n",
    "        \"vehicle_id\": \"SCORPIO001\",\n",
    "        \"booking_date\": \"2025-06-11\",\n",
    "        \"start_date\": \"2025-06-15\",\n",
    "        \"end_date\": \"2025-06-18\",\n",
    "        \"booking_type\": \"Daily\",\n",
    "        \"duration_value\": 3,\n",
    "        \"duration_unit\": \"Days\",\n",
    "        \"total_cost\": 15000.00,\n",
    "        \"status\": \"Confirmed\",\n",
    "    },\n",
    "    {\n",
    "        \"booking_id\": \"BKG_JSON_002\",\n",
    "        \"customer_id\": \"CUST_J_002\",\n",
    "        \"vehicle_id\": \"ACTIVA_001\",\n",
    "        \"booking_date\": \"2025-06-11\",\n",
    "        \"start_date\": \"2025-06-11\",\n",
    "        \"end_date\": \"2025-06-11\",\n",
    "        \"booking_type\": \"Hourly\",\n",
    "        \"duration_value\": 5,\n",
    "        \"duration_unit\": \"Hours\",\n",
    "        \"total_cost\": 300.00,\n",
    "        \"status\": \"Confirmed\",\n",
    "    }\n",
    "]"
   ]
  },
  {
   "cell_type": "code",
   "execution_count": 287,
   "metadata": {},
   "outputs": [],
   "source": [
    "local_file = \"./db/vehicledb.sqlite\"\n",
    "\n",
    "\n",
    "def add_bookings(file, booking_data):\n",
    "    conn = sqlite3.connect(file)\n",
    "    cursor = conn.cursor()\n",
    "\n",
    "    cursor.execute(\"\"\"\n",
    "        CREATE TABLE IF NOT EXISTS bookings (\n",
    "        booking_id TEXT PRIMARY KEY,\n",
    "        customer_id TEXT NOT NULL,\n",
    "        vehicle_id TEXT NOT NULL,\n",
    "        booking_date TEXT NOT NULL,\n",
    "        start_date TEXT NOT NULL,\n",
    "        end_date TEXT NOT NULL,\n",
    "        booking_type TEXT NOT NULL,\n",
    "        duration_value REAL NOT NULL,\n",
    "        duration_unit TEXT NOT NULL,\n",
    "        total_cost REAL NOT NULL,\n",
    "        status TEXT NOT NULL,\n",
    "        FOREIGN KEY (vehicle_id) REFERENCES vehicles(vehicle_id)\n",
    "    )\n",
    "    \"\"\")\n",
    "    columns = ', '.join(booking_data.keys())\n",
    "    placeholders = ', '.join(['?'] * len(booking_data))\n",
    "    values = tuple(booking_data.values())\n",
    "    cursor.execute(\n",
    "        f\"INSERT OR IGNORE INTO bookings ({columns}) VALUES ({placeholders})\",\n",
    "        values\n",
    "    )\n",
    "    conn.commit()\n",
    "    conn.close()\n",
    "\n",
    "for booking in booking_data:\n",
    "    add_bookings(local_file, booking)"
   ]
  },
  {
   "cell_type": "code",
   "execution_count": 288,
   "metadata": {},
   "outputs": [
    {
     "name": "stdout",
     "output_type": "stream",
     "text": [
      "+----+--------------+---------------+--------------+----------------+--------------+------------+----------------+------------------+-----------------+--------------+-----------+\n",
      "|    | booking_id   | customer_id   | vehicle_id   | booking_date   | start_date   | end_date   | booking_type   |   duration_value | duration_unit   |   total_cost | status    |\n",
      "|----+--------------+---------------+--------------+----------------+--------------+------------+----------------+------------------+-----------------+--------------+-----------|\n",
      "|  0 | BKG_JSON_001 | CUST_J_001    | SCORPIO001   | 2025-06-11     | 2025-06-15   | 2025-06-18 | Daily          |                3 | Days            |        15000 | Confirmed |\n",
      "|  1 | BKG_JSON_002 | CUST_J_002    | ACTIVA_001   | 2025-06-11     | 2025-06-11   | 2025-06-11 | Hourly         |                5 | Hours           |          300 | Confirmed |\n",
      "+----+--------------+---------------+--------------+----------------+--------------+------------+----------------+------------------+-----------------+--------------+-----------+\n"
     ]
    }
   ],
   "source": [
    "from tabulate import tabulate\n",
    "\n",
    "conn = sqlite3.connect(\"db/vehicledb.sqlite\")\n",
    "df = pd.read_sql(\"SELECT * FROM bookings\", conn)\n",
    "conn.close()\n",
    "\n",
    "print(tabulate(df, headers='keys', tablefmt='psql')) "
   ]
  },
  {
   "cell_type": "markdown",
   "metadata": {},
   "source": [
    "## Tools\n",
    "- We define the tools of our chatbot\n",
    "- These tools will help in vehicle recommendation, repairs, user feedback of the vehicle"
   ]
  },
  {
   "cell_type": "markdown",
   "metadata": {},
   "source": [
    "### Vehicle Recommendation\n",
    "- Based on the user's travel destination, travel budget, weather, the feedback on vehicle.\n",
    "- I created a lookup text('.db/lookup_txt') which is stored in the vector store, for the llm to use it.\n",
    "- The lookup_txt can be edited to further refine the recommendations."
   ]
  },
  {
   "cell_type": "markdown",
   "metadata": {},
   "source": [
    "Deleting collection named 'lookup_text' if it already exists. This will be the naem of the collection where I am storing embeddings from new collection."
   ]
  },
  {
   "cell_type": "code",
   "execution_count": 289,
   "metadata": {},
   "outputs": [
    {
     "name": "stdout",
     "output_type": "stream",
     "text": [
      "DB deletion error (ignored): Collection [lookup_ext] does not exists\n"
     ]
    }
   ],
   "source": [
    "import chromadb\n",
    "from langchain_chroma import Chroma\n",
    "\n",
    "\n",
    "db_path = os.path.join(os.getcwd(), \"chroma_db\")\n",
    "try:\n",
    "    chroma_client = chromadb.PersistentClient(path=db_path)\n",
    "    chroma_client.delete_collection(name='lookup_ext')\n",
    "except Exception as e:\n",
    "    print(f\"DB deletion error (ignored): {e}\")"
   ]
  },
  {
   "cell_type": "markdown",
   "metadata": {},
   "source": [
    "Storing in vector store\n"
   ]
  },
  {
   "cell_type": "code",
   "execution_count": 290,
   "metadata": {},
   "outputs": [],
   "source": [
    "import re\n",
    "\n",
    "from langchain_core.tools import tool\n",
    "from langchain.text_splitter import RecursiveCharacterTextSplitter\n",
    "from langchain_core.documents import Document\n",
    "\n",
    "\n",
    "faq_text = 'db/vehicle_lookup.txt'\n",
    "with open(faq_text, \"r\", encoding=\"utf-8\") as file:\n",
    "    faq_text = file.read()\n",
    "\n",
    "# Split on lines that begin with a number followed by a dot (e.g., \"1.\")\n",
    "raw_chunks = re.split(r\"(?=\\n\\d+\\.\\s)\", faq_text)\n",
    "docs = [Document(page_content=txt.strip()) for txt in raw_chunks]\n",
    "\n",
    "\n",
    "text_splitter = RecursiveCharacterTextSplitter(\n",
    "    chunk_size=100, chunk_overlap=30, length_function=len\n",
    ")\n",
    "split_docs = text_splitter.split_documents(docs)\n",
    "\n",
    "\n",
    "# Create Chroma vector store\n",
    "vector_store = Chroma.from_documents(\n",
    "    split_docs,\n",
    "    embedding=embedding_model,\n",
    "    persist_directory=db_path,\n",
    "    collection_name='lookup_text',\n",
    ")\n",
    "retriever = vector_store.as_retriever()"
   ]
  },
  {
   "cell_type": "code",
   "execution_count": 291,
   "metadata": {},
   "outputs": [],
   "source": [
    "@tool\n",
    "def lookup_recommendations(query: str) -> str:\n",
    "    \"\"\"See some suggestions of how to recommend .\"\"\"\n",
    "    docs = retriever.invoke(query, k = 1)\n",
    "\n",
    "    return \"\\n\\n\".join([doc.page_content for doc in docs])"
   ]
  },
  {
   "cell_type": "markdown",
   "metadata": {},
   "source": [
    "#### Sample output for the tool that uses the lookup document"
   ]
  },
  {
   "cell_type": "code",
   "execution_count": 292,
   "metadata": {},
   "outputs": [
    {
     "name": "stdout",
     "output_type": "stream",
     "text": [
      "* Recommend either a car or a touring bike with good mileage and comfort.\n"
     ]
    }
   ],
   "source": [
    "print(lookup_recommendations(\"I am travelling on a budget and the place is far\"))"
   ]
  },
  {
   "cell_type": "code",
   "execution_count": 293,
   "metadata": {},
   "outputs": [],
   "source": [
    "def read_sql_query(sql,db):\n",
    "    conn=sqlite3.connect(db)\n",
    "    cur=conn.cursor()\n",
    "    cur.execute(sql)\n",
    "    rows=cur.fetchall()\n",
    "    conn.commit()\n",
    "    conn.close()\n",
    "    for row in rows:\n",
    "        print(row)\n",
    "    return rows\n",
    "\n",
    "\n",
    "@tool\n",
    "def query_database(input_str: str) -> str:\n",
    "    \"\"\"\n",
    "    Converts natural language questions to SQL queries and executes them.\n",
    "    Input format: \"question;start_date;end_date\" (dates as YYYY-MM-DD)\n",
    "    Example: \"Show available bikes;2025-06-11;2025-06-21\"\n",
    "    \"\"\"\n",
    "    # Parse input\n",
    "    question, start_date, end_date = input_str.split(\";\")\n",
    "\n",
    "\n",
    "    prompt = f\"\"\"\n",
    "    You are an expert in converting English questions to SQL queries!\n",
    "    The SQL database is named 'vehicles' and has a table called 'bookings' with the following columns:\n",
    "\n",
    "    vehicle_id, vehicle_name, vehicle_type, vehicle_wheel_count, vehicle_gear_type, \n",
    "    vehicle_price_per_day, vehicle_price_per_hour, vehicle_description, vehicle_mileage, \n",
    "    vehicle_fuel_type, vehicle_transmission, vehicle_seating_capacity, vehicle_user_rating, \n",
    "    vehicle_usage, vehicle_user_feedback\n",
    "\n",
    "    Examples:\n",
    "\n",
    "    Question: How many 4-wheelers are available?\n",
    "    SQL: SELECT COUNT(*) FROM bookings WHERE vehicle_wheel_count = 4;\n",
    "\n",
    "    Question: Show me all bikes under 1000 rupees per day\n",
    "    SQL: SELECT * FROM bookings WHERE vehicle_type = 'Bike' AND vehicle_price_per_day < 1000;\n",
    "\n",
    "    Now, based on this question, write only the SQL query. Do not include any explanation or formatting.\n",
    "    Question: {question}\n",
    "    \"\"\"\n",
    "\n",
    "    # invoke the LLM with the prompt string\n",
    "    sql_query = chat_llm.invoke(prompt)\n",
    "    print(f\"Generated SQL: {sql_query}\")\n",
    "    print(sql_query.content)\n",
    "    \n",
    "    return sql_query"
   ]
  },
  {
   "cell_type": "markdown",
   "metadata": {},
   "source": []
  },
  {
   "cell_type": "markdown",
   "metadata": {},
   "source": [
    "#### Sample of how the sql query tool will function"
   ]
  },
  {
   "cell_type": "code",
   "execution_count": 294,
   "metadata": {},
   "outputs": [
    {
     "name": "stdout",
     "output_type": "stream",
     "text": [
      "Generated SQL: content=\" SQL: SELECT * FROM bookings WHERE vehicle_type = 'Bike' AND vehicle_usage IS NULL;\" additional_kwargs={} response_metadata={'token_usage': {'completion_tokens': 25, 'prompt_tokens': 279, 'total_tokens': 304}, 'model_name': 'mistralai/Mixtral-8x7B-Instruct-v0.1', 'system_fingerprint': '3.2.1-sha-4d28897', 'finish_reason': 'stop', 'logprobs': None} id='run--1f7ee727-1b55-4324-b53c-6603e341cff9-0' usage_metadata={'input_tokens': 279, 'output_tokens': 25, 'total_tokens': 304}\n",
      " SQL: SELECT * FROM bookings WHERE vehicle_type = 'Bike' AND vehicle_usage IS NULL;\n"
     ]
    }
   ],
   "source": [
    "result = query_database(\"Show available bikes;2025-06-11;2025-06-21\")\n"
   ]
  },
  {
   "cell_type": "markdown",
   "metadata": {},
   "source": [
    "### Repair Help"
   ]
  },
  {
   "cell_type": "code",
   "execution_count": 295,
   "metadata": {},
   "outputs": [],
   "source": [
    "MINOR_ISSUES = [\"flat tire\", \"won't start\", \"headlight\", \"oil change\", \"brake squeak\"]\n",
    "\n",
    "def classify_issue(description: str) -> str:\n",
    "    for issue in MINOR_ISSUES:\n",
    "        if issue in description.lower():\n",
    "            return \"minor\"\n",
    "    return \"major\"\n"
   ]
  },
  {
   "cell_type": "code",
   "execution_count": 296,
   "metadata": {},
   "outputs": [],
   "source": [
    "from langchain_community.tools.tavily_search import TavilySearchResults\n",
    "\n",
    "\n",
    "@tool\n",
    "def vehicle_repair_assist(input_str: str) -> str:\n",
    "    \"\"\"\n",
    "    Processes vehicle repair requests in format: \"issue;destination;vehicle_name\".\n",
    "    Example input: \"Engine knocking;Agra;Royal Enfield Classic 350\"\n",
    "    \"\"\"\n",
    "    # Parse input with safety checks\n",
    "    try:\n",
    "        description, destination, vehicle_name = input_str.split(\";\")\n",
    "    except ValueError:\n",
    "        return \"Invalid format. Use: 'issue;destination;vehicle_name'\"\n",
    "    \n",
    "    issue_type = classify_issue(description)\n",
    "\n",
    "\n",
    "    if issue_type == \"minor\":\n",
    "        return (\n",
    "            f\"This looks like a minor issue {description}.\\n\"\n",
    "            \"You can try checking this guide:\\n\"\n",
    "            f\"{TavilySearchResults(k=1,).invoke(f'How to fix {description} . The vehicle is {vehicle_name}')}\"\n",
    "        )\n",
    "    else:\n",
    "        \n",
    "        return (\n",
    "            f\"This might be a major issue : {description}.\\n\"\n",
    "            \"You can call us at +9199988822221, or find help nearby:\\n\"\n",
    "            f\"{TavilySearchResults(k=3).invoke(f'Mechanics between Delhi and {destination} for  fix')}\"\n",
    "        )\n"
   ]
  },
  {
   "cell_type": "markdown",
   "metadata": {},
   "source": [
    "#### Sample output of the tool that provides breakdown assist"
   ]
  },
  {
   "cell_type": "code",
   "execution_count": 297,
   "metadata": {},
   "outputs": [
    {
     "name": "stdout",
     "output_type": "stream",
     "text": [
      "This might be a major issue : The tyre has deflated.\n",
      "You can call us at +9199988822221, or find help nearby:\n",
      "[{'title': 'Instant car repair service in Delhi-NCR And Delhi Jaipur Expressway', 'url': 'https://roadmech24x7.com/instant-car-repair', 'content': \"Have you ever encountered a traffic problem when you were in the middle of the road on your way to your office? Or are you just out on a family vacation and your engine won't start? The feeling is intense and will make you sink. Do not worry too much about it as the Road Mech 24x7 Mechanic service provides immediate mechanics who will attend to your vehicle problem [...] Road Mech 24x7 roadside help provider vendors are only a name away. We provide and guarantee super-speedy assistance via way of means of expert vehicle mechanics achieving out to motorist individuals in case of an automobile breakdown on road, everywhere in Delhi NCR, Jaipur and India. We try to be instant inside 20-half-hour with the answer-equipped team. Towing, onsite repair, locked or misplaced keys, battery bounce begin or telecellsmartphone help are the roadside offerings we excel in. [...] *   [Battry Jumpstart](https://roadmech24x7.com/battry-jumpstart)\\n*   [Flat Tyre](https://roadmech24x7.com/flat-fyre)\\n*   [Instant Car Repair](https://roadmech24x7.com/instant-car-repair)\\n*   [Key LockOut](https://roadmech24x7.com/key-lockOut)\\n*   [Mechanical Fault](https://roadmech24x7.com/mechanical-fault)\\n*   [Towing Services](https://roadmech24x7.com/towing-services)\\n\\n#### Quick Contact\\n\\nSend Message\\n\\n#### Twitter\\n\\n[Tweets by RMech24x7](https://twitter.com/RMech24x7?ref_src=twsrc%5Etfw)\", 'score': 0.72605723}, {'title': 'Mechanical Faults Service | Roadside Assistance - Road Mech 24x7', 'url': 'https://roadmech24x7.com/mechanical-fault', 'content': 'Road Mech 24x7 roadside help provider vendors are only a name away. We provide and guarantee super-speedy assistance via way of means of expert vehicle mechanics achieving out to motorist individuals in case of an automobile breakdown on road, everywhere in Delhi NCR, Jaipur and India. We try to be instant inside 20-half-hour with the answer-equipped team. Towing, onsite repair, locked or misplaced keys, battery bounce begin or telecellsmartphone help are the roadside offerings we excel in. [...] [Call Now!](tel:+919403890107)[WhatsApp Us!](https://api.whatsapp.com/send?phone=919929983644)\\n\\nRoad Mech 24x7\\n--------------\\n\\nDelhi NCR, Jaipur, Mumbai.\\n\\n*   [+91 - 9929983644](tel:+91 9929983644)\\n*   [info@roadmech24x7.com](mailto:info@roadmech24x7.com?Subject=Enquriy)\\n*   [https://www.roadmech24x7.com/](https://www.roadmech24x7.com/)\\n\\nHELPFUL TIPS\\n------------ [...] Treating the infection can be expensive. When you see something is not going well, it is time to think about the problem and find a way to fix it. But do you know the signs? Ever before you left? We will also come to Road Mech 24x7 at home in Noida, Greater Noida, Gurgaon, Faridabad Ghaziabad, Delhi Jaipur Expressway and Jaipur. We provide around Mech Road 24x7 phone support, disaster relief, and travel assistance for you across Delhi-NCR, Noida, Greater Noida, Gurgaon, Faridabad Ghaziabad,', 'score': 0.6506676}, {'title': 'Mechanical Faults Service | Roadside Assistance | Instant car repair ...', 'url': 'https://road-mech24.com/mechanical-faults.aspx', 'content': \"## RoadMech 24x7\\n\\nNew Delhi & Jaipur ,India.\\n\\n## HELPFUL TIPS\\n\\nChanging your motor oil and filter on time is the easiest and best way to maintain the health of your vehicle.\\n\\nCheck your tire pressures regularly; under-inflated tires give poor gas mileage and significantly reduce the life of the tire as do over-inflated tires which can also cause your vehicle to have a stiff and harsh ride. [...] Transmission repairs can be expensive. When you notice something out of the ordinary, it's time to consider the problem and find a way to fix it. But do you know the signs. Broken down before you’ve even set off? We’ll still come to the Road-Mech24x7 at home in the Noida, Greater Noida, Gurgaon, Faridabad Ghaziabad ,Delhi Jaiput Expressway And Jaipur. We offer round the Road-Mech24x7 helpline, breakdown services, roadside assistance to you across Delhi-NCR, Noida, Greater Noida, Gurgaon,\", 'score': 0.608897}]\n"
     ]
    }
   ],
   "source": [
    "result = vehicle_repair_assist(\"The tyre has deflated;Jaipir;Scorpio\")\n",
    "print(result)\n"
   ]
  },
  {
   "cell_type": "markdown",
   "metadata": {},
   "source": [
    "### Updating review and feedback for vehicle"
   ]
  },
  {
   "cell_type": "code",
   "execution_count": 298,
   "metadata": {},
   "outputs": [],
   "source": [
    "from langchain_core.prompts import ChatPromptTemplate\n",
    "\n",
    "\n",
    "def generate_updated_review(previous_review : str, new_review : str):\n",
    "    prompt = ChatPromptTemplate.from_template(\n",
    "    \"\"\"\n",
    "        You are a helpful assistant that combines and refines customer reviews. \n",
    "        The goal is to generate a new, well-written review that reflects both the previous and the updated feedback. \n",
    "        Preserve the tone, address both positive and negative points, and make it sound natural and honest.Try to fit in maximum 2 lines.\n",
    "\n",
    "        Previous review: \"{previous_review}\"\n",
    "        New review: \"{new_review}\"\n",
    "        \"\"\"\n",
    "    )\n",
    "    chain = prompt | chat_llm\n",
    "    return chain.invoke({\n",
    "        \"previous_review\": previous_review,\n",
    "        \"new_review\": new_review\n",
    "    }).content\n",
    "    "
   ]
  },
  {
   "cell_type": "code",
   "execution_count": 299,
   "metadata": {},
   "outputs": [],
   "source": [
    "@tool\n",
    "def give_feedback(input_str: str):\n",
    "    \"\"\"\n",
    "    Updates the rating and review of a vehicle based on vehicleId.\n",
    "    Input format: \"rating;review;vehicleId\"\n",
    "    Example: \"5;Great mileage and comfort;V12345\"\n",
    "    \"\"\"\n",
    "    try:\n",
    "        rating_str, review, vehicleId = input_str.split(\";\", 2)\n",
    "        rating = int(rating_str)\n",
    "    except ValueError:\n",
    "        return \"Invalid input format. Use: 'rating;review;vehicleId'\"\n",
    "    conn = sqlite3.connect(local_file)\n",
    "    cursor = conn.cursor()\n",
    "\n",
    "    \n",
    "    cursor.execute(\n",
    "    \"SELECT vehicle_user_rating, vehicle_usage,vehicle_user_feedback FROM vehicles WHERE vehicle_id = ?\",\n",
    "        (vehicleId,)\n",
    "    )\n",
    "    previous_data = cursor.fetchone()\n",
    "    old_rating, n, old_feedback = previous_data\n",
    "    \n",
    "    new_rating = (rating + old_rating*n)/(n+1);\n",
    "    new_feedback = generate_updated_review(old_feedback,review)\n",
    "    \n",
    "\n",
    "    cursor.execute(\n",
    "        \"\"\"\n",
    "        UPDATE vehicles\n",
    "        SET vehicle_user_rating = ?, vehicle_usage = ?,vehicle_user_feedback = ?\n",
    "        WHERE vehicle_id = ?\n",
    "        \"\"\",\n",
    "        (new_rating, n + 1,new_feedback, vehicleId)\n",
    "    )\n",
    "\n",
    "    conn.commit()\n",
    "    conn.close()\n",
    "    "
   ]
  },
  {
   "cell_type": "markdown",
   "metadata": {},
   "source": [
    "#### Sample for how the feedback tool works"
   ]
  },
  {
   "cell_type": "code",
   "execution_count": 300,
   "metadata": {},
   "outputs": [
    {
     "name": "stdout",
     "output_type": "stream",
     "text": [
      "Before : \n",
      "+----+----------------+---------------------------+----------------+-----------------------+---------------------+-------------------------+--------------------------+----------------------------------------------------------------------------+-------------------+---------------------+------------------------+----------------------------+-----------------------+-----------------+-------------------------------------------------------------------------------------------------------------------------------------------------------------------------------------------------------------------------------------+\n",
      "|    | vehicle_id     | vehicle_name              | vehicle_type   |   vehicle_wheel_count | vehicle_gear_type   |   vehicle_price_per_day |   vehicle_price_per_hour | vehicle_description                                                        |   vehicle_mileage | vehicle_fuel_type   | vehicle_transmission   |   vehicle_seating_capacity |   vehicle_user_rating |   vehicle_usage | vehicle_user_feedback                                                                                                                                                                                                               |\n",
      "|----+----------------+---------------------------+----------------+-----------------------+---------------------+-------------------------+--------------------------+----------------------------------------------------------------------------+-------------------+---------------------+------------------------+----------------------------+-----------------------+-----------------+-------------------------------------------------------------------------------------------------------------------------------------------------------------------------------------------------------------------------------------|\n",
      "|  0 | SCORPIO001     | Mahindra Scorpio          | Car            |                     4 | 6-Speed Manual      |                    5000 |                      500 | Powerful SUV good for all types of terrain including hills and rough roads |                12 | Diesel              | Manual                 |                          7 |               4.54938 |               6 | \"The family-friendly resort provides enjoyment, particularly with its exciting car ride, but watch out for large crowds and occasional police presence. On a positive note, I was thrilled with the smooth and enjoyable car ride.\" |\n",
      "|  1 | RE_CLASSIC_001 | Royal Enfield Classic 350 | Bike           |                     2 | 5-Speed Manual      |                    1500 |                      100 | Classic motorcycle good for long rides and heavy loads                     |                35 | Petrol              | Manual                 |                          2 |               4.2     |               8 | Classic thumping sound and comfortable for long rides                                                                                                                                                                               |\n",
      "|  2 | ACTIVA_001     | Honda Activa 6G           | Scooty         |                     2 | Non-Gear            |                     800 |                       60 | Perfect for city rides and nearby locations                                |                50 | Petrol              | Automatic              |                          2 |               4.3     |              90 | Very fuel efficient and easy to ride                                                                                                                                                                                                |\n",
      "|  3 | SWIFT_001      | Maruti Swift              | Car            |                     4 | 5-Speed Manual      |                    2500 |                      200 | Compact car perfect for city driving and small families                    |                22 | Petrol              | Manual                 |                          5 |               4.1     |              43 | Good mileage and comfortable for city rides                                                                                                                                                                                         |\n",
      "|  4 | PULSAR_001     | Bajaj Pulsar 150          | Bike           |                     2 | 5-Speed Manual      |                    1000 |                       80 | Sporty bike good for daily commuting and weekend rides                     |                45 | Petrol              | Manual                 |                          2 |               4       |              40 | Good performance and stylish design                                                                                                                                                                                                 |\n",
      "|  5 | JUPITER_001    | TVS Jupiter               | Scooty         |                     2 | Non-Gear            |                     700 |                       50 | Reliable scooter with good storage space                                   |                55 | Petrol              | Automatic              |                          2 |               4.2     |              10 | Excellent mileage and comfortable seat                                                                                                                                                                                              |\n",
      "+----+----------------+---------------------------+----------------+-----------------------+---------------------+-------------------------+--------------------------+----------------------------------------------------------------------------+-------------------+---------------------+------------------------+----------------------------+-----------------------+-----------------+-------------------------------------------------------------------------------------------------------------------------------------------------------------------------------------------------------------------------------------+\n"
     ]
    }
   ],
   "source": [
    "conn = sqlite3.connect(\"db/vehicledb.sqlite\")\n",
    "df = pd.read_sql(\"SELECT * FROM vehicles\", conn)\n",
    "conn.close()\n",
    "\n",
    "print(\"Before : \")\n",
    "print(tabulate(df, headers='keys', tablefmt='psql')) "
   ]
  },
  {
   "cell_type": "code",
   "execution_count": 301,
   "metadata": {},
   "outputs": [],
   "source": [
    "give_feedback(\"5;The car is very god. I loved the experience;SCORPIO001\")"
   ]
  },
  {
   "cell_type": "code",
   "execution_count": 302,
   "metadata": {},
   "outputs": [
    {
     "name": "stdout",
     "output_type": "stream",
     "text": [
      "After : \n",
      "+----+----------------+---------------------------+----------------+-----------------------+---------------------+-------------------------+--------------------------+----------------------------------------------------------------------------+-------------------+---------------------+------------------------+----------------------------+-----------------------+-----------------+------------------------------------------------------------------------------------------------------------------------------------------------------------------------------------------------------------------+\n",
      "|    | vehicle_id     | vehicle_name              | vehicle_type   |   vehicle_wheel_count | vehicle_gear_type   |   vehicle_price_per_day |   vehicle_price_per_hour | vehicle_description                                                        |   vehicle_mileage | vehicle_fuel_type   | vehicle_transmission   |   vehicle_seating_capacity |   vehicle_user_rating |   vehicle_usage | vehicle_user_feedback                                                                                                                                                                                            |\n",
      "|----+----------------+---------------------------+----------------+-----------------------+---------------------+-------------------------+--------------------------+----------------------------------------------------------------------------+-------------------+---------------------+------------------------+----------------------------+-----------------------+-----------------+------------------------------------------------------------------------------------------------------------------------------------------------------------------------------------------------------------------|\n",
      "|  0 | SCORPIO001     | Mahindra Scorpio          | Car            |                     4 | 6-Speed Manual      |                    5000 |                      500 | Powerful SUV good for all types of terrain including hills and rough roads |                12 | Diesel              | Manual                 |                          7 |               4.61376 |               7 | \"The family-friendly resort offers an exciting car ride that is thoroughly enjoyable and smooth, making it the highlight of our visit. However, do be prepared for large crowds and occasional police presence.\" |\n",
      "|  1 | RE_CLASSIC_001 | Royal Enfield Classic 350 | Bike           |                     2 | 5-Speed Manual      |                    1500 |                      100 | Classic motorcycle good for long rides and heavy loads                     |                35 | Petrol              | Manual                 |                          2 |               4.2     |               8 | Classic thumping sound and comfortable for long rides                                                                                                                                                            |\n",
      "|  2 | ACTIVA_001     | Honda Activa 6G           | Scooty         |                     2 | Non-Gear            |                     800 |                       60 | Perfect for city rides and nearby locations                                |                50 | Petrol              | Automatic              |                          2 |               4.3     |              90 | Very fuel efficient and easy to ride                                                                                                                                                                             |\n",
      "|  3 | SWIFT_001      | Maruti Swift              | Car            |                     4 | 5-Speed Manual      |                    2500 |                      200 | Compact car perfect for city driving and small families                    |                22 | Petrol              | Manual                 |                          5 |               4.1     |              43 | Good mileage and comfortable for city rides                                                                                                                                                                      |\n",
      "|  4 | PULSAR_001     | Bajaj Pulsar 150          | Bike           |                     2 | 5-Speed Manual      |                    1000 |                       80 | Sporty bike good for daily commuting and weekend rides                     |                45 | Petrol              | Manual                 |                          2 |               4       |              40 | Good performance and stylish design                                                                                                                                                                              |\n",
      "|  5 | JUPITER_001    | TVS Jupiter               | Scooty         |                     2 | Non-Gear            |                     700 |                       50 | Reliable scooter with good storage space                                   |                55 | Petrol              | Automatic              |                          2 |               4.2     |              10 | Excellent mileage and comfortable seat                                                                                                                                                                           |\n",
      "+----+----------------+---------------------------+----------------+-----------------------+---------------------+-------------------------+--------------------------+----------------------------------------------------------------------------+-------------------+---------------------+------------------------+----------------------------+-----------------------+-----------------+------------------------------------------------------------------------------------------------------------------------------------------------------------------------------------------------------------------+\n"
     ]
    }
   ],
   "source": [
    "conn = sqlite3.connect(\"db/vehicledb.sqlite\")\n",
    "df = pd.read_sql(\"SELECT * FROM vehicles\", conn)\n",
    "conn.close()\n",
    "\n",
    "print(\"After : \")\n",
    "print(tabulate(df, headers='keys', tablefmt='psql')) "
   ]
  },
  {
   "cell_type": "markdown",
   "metadata": {},
   "source": [
    "### Updating review and feedback for chabot\n"
   ]
  },
  {
   "cell_type": "code",
   "execution_count": 303,
   "metadata": {},
   "outputs": [],
   "source": [
    "from langchain.tools import tool\n",
    "import sqlite3\n",
    "from datetime import datetime\n",
    "\n",
    "@tool\n",
    "def store_chatbot_feedback(input_str: str) -> str:\n",
    "    \"\"\"\n",
    "    Stores user feedback about the chatbot's performance.\n",
    "\n",
    "    Args:\n",
    "        input_str (str): Input string in the format 'conversation_id;rating;feedback'\n",
    "\n",
    "    Returns:\n",
    "        str: A thank-you message.\n",
    "    \"\"\"\n",
    "    try:\n",
    "        # Split input into up to three parts (feedback is optional)\n",
    "        parts = input_str.split(';', 2)\n",
    "        conversation_id = parts[0]\n",
    "        rating = float(parts[1])\n",
    "        feedback = parts[2] if len(parts) > 2 else ''\n",
    "    except (IndexError, ValueError):\n",
    "        return \"Invalid input format. Use: 'conversation_id;rating;feedback' with rating as a float.\"\n",
    "\n",
    "    conn = sqlite3.connect(\"db/vehicledb.sqlite\")  # Replace with actual path\n",
    "    cursor = conn.cursor()\n",
    "\n",
    "    # Create table if not exists\n",
    "    cursor.execute(\n",
    "        \"\"\"\n",
    "        CREATE TABLE IF NOT EXISTS chatbot_feedback (\n",
    "            id INTEGER PRIMARY KEY AUTOINCREMENT,\n",
    "            conversation_id TEXT NOT NULL,\n",
    "            rating REAL CHECK(rating >= 1 AND rating <= 5),\n",
    "            feedback TEXT,\n",
    "            timestamp DATETIME DEFAULT CURRENT_TIMESTAMP\n",
    "        );\n",
    "        \"\"\"\n",
    "    )\n",
    "\n",
    "    # Insert feedback\n",
    "    cursor.execute(\n",
    "        \"\"\"\n",
    "        INSERT INTO chatbot_feedback (conversation_id, rating, feedback)\n",
    "        VALUES (?, ?, ?)\n",
    "        \"\"\",\n",
    "        (conversation_id, rating, feedback)\n",
    "    )\n",
    "    conn.commit()\n",
    "    conn.close()\n",
    "\n",
    "    return \"Thanks for rating our chatbot! Your feedback helps us improve.\"\n"
   ]
  },
  {
   "cell_type": "code",
   "execution_count": 304,
   "metadata": {},
   "outputs": [
    {
     "data": {
      "text/plain": [
       "'Thanks for rating our chatbot! Your feedback helps us improve.'"
      ]
     },
     "execution_count": 304,
     "metadata": {},
     "output_type": "execute_result"
    }
   ],
   "source": [
    "store_chatbot_feedback(\"131;3\")"
   ]
  },
  {
   "cell_type": "code",
   "execution_count": 305,
   "metadata": {},
   "outputs": [
    {
     "name": "stdout",
     "output_type": "stream",
     "text": [
      "After : \n",
      "+----+------+-------------------+----------+------------+---------------------+\n",
      "|    |   id |   conversation_id |   rating | feedback   | timestamp           |\n",
      "|----+------+-------------------+----------+------------+---------------------|\n",
      "|  0 |    1 |               121 |        5 |            | 2025-06-11 12:54:59 |\n",
      "|  1 |    2 |               131 |        3 |            | 2025-06-11 13:04:16 |\n",
      "|  2 |    3 |               131 |        3 |            | 2025-06-11 15:25:47 |\n",
      "|  3 |    4 |               131 |        3 |            | 2025-06-11 15:35:01 |\n",
      "|  4 |    5 |               131 |        3 |            | 2025-06-11 20:42:15 |\n",
      "+----+------+-------------------+----------+------------+---------------------+\n"
     ]
    }
   ],
   "source": [
    "conn = sqlite3.connect(\"db/vehicledb.sqlite\")\n",
    "df = pd.read_sql(\"SELECT * FROM chatbot_feedback\", conn)\n",
    "conn.close()\n",
    "\n",
    "print(\"After : \")\n",
    "print(tabulate(df, headers='keys', tablefmt='psql')) "
   ]
  },
  {
   "cell_type": "markdown",
   "metadata": {},
   "source": [
    "## Agent\n",
    "- Next, defining the assistant function. This function takes the graph state, formats it into a prompt, and then calls an LLM for it to predict the best response.\n",
    "- The assistant helps call the graph with state & config."
   ]
  },
  {
   "cell_type": "code",
   "execution_count": 306,
   "metadata": {},
   "outputs": [],
   "source": [
    "\n",
    "from langchain_core.prompts import ChatPromptTemplate, MessagesPlaceholder\n",
    "from langgraph.graph import StateGraph, MessagesState, START, END\n",
    "from typing import Annotated, Literal, TypedDict\n",
    "from langchain_core.messages import HumanMessage, AIMessage\n",
    "from langgraph.graph.message import add_messages    \n",
    "\n",
    "\n",
    "\n",
    "\n",
    "class State(TypedDict):\n",
    "    messages: Annotated[list, add_messages]\n",
    "\n",
    "\n",
    "\n",
    "prompt = ChatPromptTemplate.from_messages([\n",
    "    (\"system\", \"\"\"\n",
    "You are a helpful and conversational customer support assistant for a Vehicle Rental Company located in Kashmiri Gate, Delhi.\n",
    "\n",
    "Your job is to assist users with:\n",
    "- Recommending rental vehicles.\n",
    "- Answering queries using available tools.\n",
    "- Helping with repair-related issues or feedback.\n",
    "\n",
    " Tool Usage Guidelines:\n",
    "- Use tools like `lookup_recommendations`, `query_database`, `vehicle_repair_assist`, or `give_feedback` **only when the user asks a specific question that requires information or action.**\n",
    "- Do **not** use any tools for casual greetings or small talk (e.g., \"hello\", \"how are you\").\n",
    "- If a tool returns no results, try expanding the search intelligently before replying.\n",
    "- If the user asks to speak to the rental company, give them the number `+9112233445566` and politely end the chat.\n",
    "\n",
    " Conversational Style:\n",
    "- Be friendly, concise, and human-like.\n",
    "- Responses should be around **30–40 tokens**.\n",
    "- Remember and refer to earlier context naturally in replies.\n",
    "\n",
    "Always close with:  \n",
    "“How would you like to rate the chatbot today?”\n",
    "\n",
    "\n",
    "    \n",
    "Current conversation:\"\"\"),\n",
    "    MessagesPlaceholder(variable_name=\"messages\"),\n",
    "])\n",
    "\n",
    "\n",
    "\n",
    "tools = [\n",
    "    lookup_recommendations,\n",
    "    query_database,\n",
    "    vehicle_repair_assist,\n",
    "    give_feedback,\n",
    "    store_chatbot_feedback\n",
    "]\n",
    "\n",
    "\n",
    "chat_llm_with_tools = chat_llm.bind_tools(tools)\n",
    "\n",
    "def filter_chat_messages(messages):\n",
    "    \"\"\"\n",
    "    Filters out only HumanMessage and AIMessage objects from the full message list.\n",
    "    Useful for feeding into prompt templates that expect a chat history.\n",
    "    \"\"\"\n",
    "    return [m for m in messages if isinstance(m, (HumanMessage, AIMessage))]\n",
    "\n",
    "\n",
    "def agent_node(state: State):\n",
    "    \"\"\"The main agent that decides what to do next\"\"\"\n",
    "    print(\" Thinking...\")\n",
    "    \n",
    "    current_count = state.get('tool_call_count', 0)\n",
    "    \n",
    "    # Format messages with prompt\n",
    "\n",
    "    print(\"Tools available - using normal prompt\")\n",
    "    formatted_messages = prompt.format_messages(messages=state[\"messages\"])\n",
    "    response = chat_llm_with_tools.invoke(formatted_messages)  # Use chat_llm with tools\n",
    "    \n",
    "    print(f\"AGENT RESPONSE: {response.content[:100]}...\")\n",
    "\n",
    "    if hasattr(response, 'tool_calls') and response.tool_calls:\n",
    "        print(f\"Tool call detected! \")\n",
    "    \n",
    "    return {\n",
    "        \"messages\": [response],\n",
    "    }\n",
    "\n",
    "\n",
    "def should_continue(state: State) -> Literal[\"tools\", \"end\"]:\n",
    "    \"\"\"Determine if we should use tools or end the conversation\"\"\"\n",
    "    last_message = state[\"messages\"][-1]\n",
    "    current_count = state.get('tool_call_count', 0)\n",
    "    # If the last message has tool calls, use tools\n",
    "    if hasattr(last_message, 'tool_calls') and last_message.tool_calls:\n",
    "        print(\"ROUTING: Going to tools\")\n",
    "        return \"tools\"\n",
    "    else:\n",
    "        print(\"ROUTING: Ending conversation\")\n",
    "        return \"end\""
   ]
  },
  {
   "cell_type": "code",
   "execution_count": 307,
   "metadata": {},
   "outputs": [],
   "source": [
    "from langgraph.prebuilt import ToolNode\n",
    "from langgraph.checkpoint.memory import MemorySaver\n",
    "import uuid\n",
    "\n",
    "tool_node = ToolNode(tools)\n",
    "\n",
    "# Build the custom graph\n",
    "def create_custom_agent():\n",
    "    # Initialize the graph\n",
    "    workflow = StateGraph(State)\n",
    "    \n",
    "    # Add nodes\n",
    "    workflow.add_node(\"agent\", agent_node)\n",
    "    workflow.add_node(\"tools\", tool_node)\n",
    "    \n",
    "    # Add edges\n",
    "    workflow.add_edge(START, \"agent\")  # Start with agent\n",
    "    \n",
    "    # Add conditional edge from agent\n",
    "    workflow.add_conditional_edges(\n",
    "        \"agent\",\n",
    "        should_continue,\n",
    "        {\n",
    "            \"tools\": \"tools\",\n",
    "            \"end\": END\n",
    "        }\n",
    "    )\n",
    "    \n",
    "    # After tools, always go back to agent\n",
    "    workflow.add_edge(\"tools\", \"agent\")\n",
    "    \n",
    "    return workflow\n",
    "\n",
    "\n",
    "workflow = create_custom_agent()\n",
    "memory = MemorySaver()\n",
    "agent_graph = workflow.compile(checkpointer=memory)\n",
    "\n",
    "# Test with tool call limiting\n",
    "config = {\"configurable\": {\"thread_id\": str(uuid.uuid4())}}\n"
   ]
  },
  {
   "cell_type": "markdown",
   "metadata": {},
   "source": [
    "Displaying the general flow of the graph. Since all the operations are **read-only**, I did not add any conditions to access the tools.\n"
   ]
  },
  {
   "cell_type": "code",
   "execution_count": 308,
   "metadata": {},
   "outputs": [
    {
     "data": {
      "image/png": "[encoded data removed]",
      "text/plain": [
       "<IPython.core.display.Image object>"
      ]
     },
     "metadata": {},
     "output_type": "display_data"
    }
   ],
   "source": [
    "from IPython.display import Image, display\n",
    "\n",
    "try:\n",
    "    display(Image(agent_graph.get_graph(xray=True).draw_mermaid_png()))\n",
    "except Exception:\n",
    "    # This requires some extra dependencies and is optional\n",
    "    pass"
   ]
  },
  {
   "cell_type": "markdown",
   "metadata": {},
   "source": [
    "## Example Conversations"
   ]
  },
  {
   "cell_type": "code",
   "execution_count": 309,
   "metadata": {},
   "outputs": [
    {
     "name": "stdout",
     "output_type": "stream",
     "text": [
      "📝 Current messages count: 1\n",
      "================================\u001b[1m Human Message \u001b[0m=================================\n",
      "\n",
      "Hello\n",
      "------------------------------\n",
      " Thinking...\n",
      "✅ Tools available - using normal prompt\n",
      "🤖 AGENT RESPONSE: ...\n",
      "🔧 Tool call detected! Incrementing count to: 1\n",
      "🔧 ROUTING: Going to tools\n",
      "📝 Current messages count: 2\n",
      "==================================\u001b[1m Ai Message \u001b[0m==================================\n",
      "Tool Calls:\n",
      "  lookup_recommendations (0)\n",
      " Call ID: 0\n",
      "  Args:\n",
      "    query: affordable car options\n",
      "------------------------------\n",
      "📝 Current messages count: 3\n",
      "=================================\u001b[1m Tool Message \u001b[0m=================================\n",
      "Name: lookup_recommendations\n",
      "\n",
      "Recommend vehicles with better comfort, mileage,\n",
      "------------------------------\n",
      " Thinking...\n",
      "✅ Tools available - using normal prompt\n"
     ]
    },
    {
     "ename": "HfHubHTTPError",
     "evalue": "422 Client Error: Unprocessable Entity for url: https://router.huggingface.co/hf-inference/models/mistralai/Mixtral-8x7B-Instruct-v0.1/v1/chat/completions (Request ID: Root=1-6849ea3c-43483dbe77e0b17d7dc20486;8ac04aa7-ed7c-41cf-a6c8-f7adb8a33a45)\n\nTemplate error: syntax error: After the optional system message, conversation roles must alternate user/assistant/user/assistant/... (in <string>:11)\n{\"error\":\"Template error: syntax error: After the optional system message, conversation roles must alternate user/assistant/user/assistant/... (in <string>:11)\",\"error_type\":\"template_error\"}\n",
     "output_type": "error",
     "traceback": [
      "\u001b[31m---------------------------------------------------------------------------\u001b[39m",
      "\u001b[31mHTTPError\u001b[39m                                 Traceback (most recent call last)",
      "\u001b[36mFile \u001b[39m\u001b[32md:\\RentalShop\\.venv\\Lib\\site-packages\\huggingface_hub\\utils\\_http.py:409\u001b[39m, in \u001b[36mhf_raise_for_status\u001b[39m\u001b[34m(response, endpoint_name)\u001b[39m\n\u001b[32m    408\u001b[39m \u001b[38;5;28;01mtry\u001b[39;00m:\n\u001b[32m--> \u001b[39m\u001b[32m409\u001b[39m     \u001b[43mresponse\u001b[49m\u001b[43m.\u001b[49m\u001b[43mraise_for_status\u001b[49m\u001b[43m(\u001b[49m\u001b[43m)\u001b[49m\n\u001b[32m    410\u001b[39m \u001b[38;5;28;01mexcept\u001b[39;00m HTTPError \u001b[38;5;28;01mas\u001b[39;00m e:\n",
      "\u001b[36mFile \u001b[39m\u001b[32md:\\RentalShop\\.venv\\Lib\\site-packages\\requests\\models.py:1026\u001b[39m, in \u001b[36mResponse.raise_for_status\u001b[39m\u001b[34m(self)\u001b[39m\n\u001b[32m   1025\u001b[39m \u001b[38;5;28;01mif\u001b[39;00m http_error_msg:\n\u001b[32m-> \u001b[39m\u001b[32m1026\u001b[39m     \u001b[38;5;28;01mraise\u001b[39;00m HTTPError(http_error_msg, response=\u001b[38;5;28mself\u001b[39m)\n",
      "\u001b[31mHTTPError\u001b[39m: 422 Client Error: Unprocessable Entity for url: https://router.huggingface.co/hf-inference/models/mistralai/Mixtral-8x7B-Instruct-v0.1/v1/chat/completions",
      "\nThe above exception was the direct cause of the following exception:\n",
      "\u001b[31mHfHubHTTPError\u001b[39m                            Traceback (most recent call last)",
      "\u001b[36mCell\u001b[39m\u001b[36m \u001b[39m\u001b[32mIn[309]\u001b[39m\u001b[32m, line 20\u001b[39m\n\u001b[32m     18\u001b[39m config = {\u001b[33m\"\u001b[39m\u001b[33mconfigurable\u001b[39m\u001b[33m\"\u001b[39m: {\u001b[33m\"\u001b[39m\u001b[33mthread_id\u001b[39m\u001b[33m\"\u001b[39m: \u001b[38;5;28mstr\u001b[39m(uuid.uuid4())}}\n\u001b[32m     19\u001b[39m agent_graph.update_state(config, {\u001b[33m\"\u001b[39m\u001b[33mmessages\u001b[39m\u001b[33m\"\u001b[39m: []})\n\u001b[32m---> \u001b[39m\u001b[32m20\u001b[39m \u001b[43m\u001b[49m\u001b[38;5;28;43;01mfor\u001b[39;49;00m\u001b[43m \u001b[49m\u001b[43mstep\u001b[49m\u001b[43m \u001b[49m\u001b[38;5;129;43;01min\u001b[39;49;00m\u001b[43m \u001b[49m\u001b[43magent_graph\u001b[49m\u001b[43m.\u001b[49m\u001b[43mstream\u001b[49m\u001b[43m(\u001b[49m\n\u001b[32m     21\u001b[39m \u001b[43m   \u001b[49m\u001b[43m{\u001b[49m\u001b[33;43m\"\u001b[39;49m\u001b[33;43mmessages\u001b[39;49m\u001b[33;43m\"\u001b[39;49m\u001b[43m:\u001b[49m\u001b[43m[\u001b[49m\u001b[43mHumanMessage\u001b[49m\u001b[43m(\u001b[49m\u001b[43mcontent\u001b[49m\u001b[43m=\u001b[49m\u001b[43mquestion\u001b[49m\u001b[43m)\u001b[49m\u001b[43m]\u001b[49m\u001b[43m}\u001b[49m\u001b[43m,\u001b[49m\n\u001b[32m     22\u001b[39m \u001b[43m    \u001b[49m\u001b[43mconfig\u001b[49m\u001b[43m,\u001b[49m\n\u001b[32m     23\u001b[39m \u001b[43m    \u001b[49m\u001b[43mstream_mode\u001b[49m\u001b[43m=\u001b[49m\u001b[33;43m\"\u001b[39;49m\u001b[33;43mvalues\u001b[39;49m\u001b[33;43m\"\u001b[39;49m\u001b[43m,\u001b[49m\n\u001b[32m     24\u001b[39m \u001b[43m\u001b[49m\u001b[43m)\u001b[49m\u001b[43m:\u001b[49m\n\u001b[32m     25\u001b[39m \u001b[43m    \u001b[49m\u001b[38;5;28;43mprint\u001b[39;49m\u001b[43m(\u001b[49m\u001b[33;43mf\u001b[39;49m\u001b[33;43m\"\u001b[39;49m\u001b[33;43m📝 Current messages count: \u001b[39;49m\u001b[38;5;132;43;01m{\u001b[39;49;00m\u001b[38;5;28;43mlen\u001b[39;49m\u001b[43m(\u001b[49m\u001b[43mstep\u001b[49m\u001b[43m[\u001b[49m\u001b[33;43m'\u001b[39;49m\u001b[33;43mmessages\u001b[39;49m\u001b[33;43m'\u001b[39;49m\u001b[43m]\u001b[49m\u001b[43m)\u001b[49m\u001b[38;5;132;43;01m}\u001b[39;49;00m\u001b[33;43m\"\u001b[39;49m\u001b[43m)\u001b[49m\n\u001b[32m     26\u001b[39m \u001b[43m    \u001b[49m\u001b[43mstep\u001b[49m\u001b[43m[\u001b[49m\u001b[33;43m\"\u001b[39;49m\u001b[33;43mmessages\u001b[39;49m\u001b[33;43m\"\u001b[39;49m\u001b[43m]\u001b[49m\u001b[43m[\u001b[49m\u001b[43m-\u001b[49m\u001b[32;43m1\u001b[39;49m\u001b[43m]\u001b[49m\u001b[43m.\u001b[49m\u001b[43mpretty_print\u001b[49m\u001b[43m(\u001b[49m\u001b[43m)\u001b[49m\n",
      "\u001b[36mFile \u001b[39m\u001b[32md:\\RentalShop\\.venv\\Lib\\site-packages\\langgraph\\pregel\\__init__.py:2436\u001b[39m, in \u001b[36mPregel.stream\u001b[39m\u001b[34m(self, input, config, stream_mode, output_keys, interrupt_before, interrupt_after, checkpoint_during, debug, subgraphs)\u001b[39m\n\u001b[32m   2434\u001b[39m         \u001b[38;5;28;01mfor\u001b[39;00m task \u001b[38;5;129;01min\u001b[39;00m loop.match_cached_writes():\n\u001b[32m   2435\u001b[39m             loop.output_writes(task.id, task.writes, cached=\u001b[38;5;28;01mTrue\u001b[39;00m)\n\u001b[32m-> \u001b[39m\u001b[32m2436\u001b[39m \u001b[43m        \u001b[49m\u001b[38;5;28;43;01mfor\u001b[39;49;00m\u001b[43m \u001b[49m\u001b[43m_\u001b[49m\u001b[43m \u001b[49m\u001b[38;5;129;43;01min\u001b[39;49;00m\u001b[43m \u001b[49m\u001b[43mrunner\u001b[49m\u001b[43m.\u001b[49m\u001b[43mtick\u001b[49m\u001b[43m(\u001b[49m\n\u001b[32m   2437\u001b[39m \u001b[43m            \u001b[49m\u001b[43m[\u001b[49m\u001b[43mt\u001b[49m\u001b[43m \u001b[49m\u001b[38;5;28;43;01mfor\u001b[39;49;00m\u001b[43m \u001b[49m\u001b[43mt\u001b[49m\u001b[43m \u001b[49m\u001b[38;5;129;43;01min\u001b[39;49;00m\u001b[43m \u001b[49m\u001b[43mloop\u001b[49m\u001b[43m.\u001b[49m\u001b[43mtasks\u001b[49m\u001b[43m.\u001b[49m\u001b[43mvalues\u001b[49m\u001b[43m(\u001b[49m\u001b[43m)\u001b[49m\u001b[43m \u001b[49m\u001b[38;5;28;43;01mif\u001b[39;49;00m\u001b[43m \u001b[49m\u001b[38;5;129;43;01mnot\u001b[39;49;00m\u001b[43m \u001b[49m\u001b[43mt\u001b[49m\u001b[43m.\u001b[49m\u001b[43mwrites\u001b[49m\u001b[43m]\u001b[49m\u001b[43m,\u001b[49m\n\u001b[32m   2438\u001b[39m \u001b[43m            \u001b[49m\u001b[43mtimeout\u001b[49m\u001b[43m=\u001b[49m\u001b[38;5;28;43mself\u001b[39;49m\u001b[43m.\u001b[49m\u001b[43mstep_timeout\u001b[49m\u001b[43m,\u001b[49m\n\u001b[32m   2439\u001b[39m \u001b[43m            \u001b[49m\u001b[43mget_waiter\u001b[49m\u001b[43m=\u001b[49m\u001b[43mget_waiter\u001b[49m\u001b[43m,\u001b[49m\n\u001b[32m   2440\u001b[39m \u001b[43m            \u001b[49m\u001b[43mschedule_task\u001b[49m\u001b[43m=\u001b[49m\u001b[43mloop\u001b[49m\u001b[43m.\u001b[49m\u001b[43maccept_push\u001b[49m\u001b[43m,\u001b[49m\n\u001b[32m   2441\u001b[39m \u001b[43m        \u001b[49m\u001b[43m)\u001b[49m\u001b[43m:\u001b[49m\n\u001b[32m   2442\u001b[39m \u001b[43m            \u001b[49m\u001b[38;5;66;43;03m# emit output\u001b[39;49;00m\n\u001b[32m   2443\u001b[39m \u001b[43m            \u001b[49m\u001b[38;5;28;43;01myield from\u001b[39;49;00m\u001b[43m \u001b[49m\u001b[43moutput\u001b[49m\u001b[43m(\u001b[49m\u001b[43m)\u001b[49m\n\u001b[32m   2444\u001b[39m \u001b[38;5;66;03m# emit output\u001b[39;00m\n",
      "\u001b[36mFile \u001b[39m\u001b[32md:\\RentalShop\\.venv\\Lib\\site-packages\\langgraph\\pregel\\runner.py:161\u001b[39m, in \u001b[36mPregelRunner.tick\u001b[39m\u001b[34m(self, tasks, reraise, timeout, retry_policy, get_waiter, schedule_task)\u001b[39m\n\u001b[32m    159\u001b[39m t = tasks[\u001b[32m0\u001b[39m]\n\u001b[32m    160\u001b[39m \u001b[38;5;28;01mtry\u001b[39;00m:\n\u001b[32m--> \u001b[39m\u001b[32m161\u001b[39m     \u001b[43mrun_with_retry\u001b[49m\u001b[43m(\u001b[49m\n\u001b[32m    162\u001b[39m \u001b[43m        \u001b[49m\u001b[43mt\u001b[49m\u001b[43m,\u001b[49m\n\u001b[32m    163\u001b[39m \u001b[43m        \u001b[49m\u001b[43mretry_policy\u001b[49m\u001b[43m,\u001b[49m\n\u001b[32m    164\u001b[39m \u001b[43m        \u001b[49m\u001b[43mconfigurable\u001b[49m\u001b[43m=\u001b[49m\u001b[43m{\u001b[49m\n\u001b[32m    165\u001b[39m \u001b[43m            \u001b[49m\u001b[43mCONFIG_KEY_CALL\u001b[49m\u001b[43m:\u001b[49m\u001b[43m \u001b[49m\u001b[43mpartial\u001b[49m\u001b[43m(\u001b[49m\n\u001b[32m    166\u001b[39m \u001b[43m                \u001b[49m\u001b[43m_call\u001b[49m\u001b[43m,\u001b[49m\n\u001b[32m    167\u001b[39m \u001b[43m                \u001b[49m\u001b[43mweakref\u001b[49m\u001b[43m.\u001b[49m\u001b[43mref\u001b[49m\u001b[43m(\u001b[49m\u001b[43mt\u001b[49m\u001b[43m)\u001b[49m\u001b[43m,\u001b[49m\n\u001b[32m    168\u001b[39m \u001b[43m                \u001b[49m\u001b[43mretry\u001b[49m\u001b[43m=\u001b[49m\u001b[43mretry_policy\u001b[49m\u001b[43m,\u001b[49m\n\u001b[32m    169\u001b[39m \u001b[43m                \u001b[49m\u001b[43mfutures\u001b[49m\u001b[43m=\u001b[49m\u001b[43mweakref\u001b[49m\u001b[43m.\u001b[49m\u001b[43mref\u001b[49m\u001b[43m(\u001b[49m\u001b[43mfutures\u001b[49m\u001b[43m)\u001b[49m\u001b[43m,\u001b[49m\n\u001b[32m    170\u001b[39m \u001b[43m                \u001b[49m\u001b[43mschedule_task\u001b[49m\u001b[43m=\u001b[49m\u001b[43mschedule_task\u001b[49m\u001b[43m,\u001b[49m\n\u001b[32m    171\u001b[39m \u001b[43m                \u001b[49m\u001b[43msubmit\u001b[49m\u001b[43m=\u001b[49m\u001b[38;5;28;43mself\u001b[39;49m\u001b[43m.\u001b[49m\u001b[43msubmit\u001b[49m\u001b[43m,\u001b[49m\n\u001b[32m    172\u001b[39m \u001b[43m            \u001b[49m\u001b[43m)\u001b[49m\u001b[43m,\u001b[49m\n\u001b[32m    173\u001b[39m \u001b[43m        \u001b[49m\u001b[43m}\u001b[49m\u001b[43m,\u001b[49m\n\u001b[32m    174\u001b[39m \u001b[43m    \u001b[49m\u001b[43m)\u001b[49m\n\u001b[32m    175\u001b[39m     \u001b[38;5;28mself\u001b[39m.commit(t, \u001b[38;5;28;01mNone\u001b[39;00m)\n\u001b[32m    176\u001b[39m \u001b[38;5;28;01mexcept\u001b[39;00m \u001b[38;5;167;01mException\u001b[39;00m \u001b[38;5;28;01mas\u001b[39;00m exc:\n",
      "\u001b[36mFile \u001b[39m\u001b[32md:\\RentalShop\\.venv\\Lib\\site-packages\\langgraph\\pregel\\retry.py:40\u001b[39m, in \u001b[36mrun_with_retry\u001b[39m\u001b[34m(task, retry_policy, configurable)\u001b[39m\n\u001b[32m     38\u001b[39m     task.writes.clear()\n\u001b[32m     39\u001b[39m     \u001b[38;5;66;03m# run the task\u001b[39;00m\n\u001b[32m---> \u001b[39m\u001b[32m40\u001b[39m     \u001b[38;5;28;01mreturn\u001b[39;00m \u001b[43mtask\u001b[49m\u001b[43m.\u001b[49m\u001b[43mproc\u001b[49m\u001b[43m.\u001b[49m\u001b[43minvoke\u001b[49m\u001b[43m(\u001b[49m\u001b[43mtask\u001b[49m\u001b[43m.\u001b[49m\u001b[43minput\u001b[49m\u001b[43m,\u001b[49m\u001b[43m \u001b[49m\u001b[43mconfig\u001b[49m\u001b[43m)\u001b[49m\n\u001b[32m     41\u001b[39m \u001b[38;5;28;01mexcept\u001b[39;00m ParentCommand \u001b[38;5;28;01mas\u001b[39;00m exc:\n\u001b[32m     42\u001b[39m     ns: \u001b[38;5;28mstr\u001b[39m = config[CONF][CONFIG_KEY_CHECKPOINT_NS]\n",
      "\u001b[36mFile \u001b[39m\u001b[32md:\\RentalShop\\.venv\\Lib\\site-packages\\langgraph\\utils\\runnable.py:623\u001b[39m, in \u001b[36mRunnableSeq.invoke\u001b[39m\u001b[34m(self, input, config, **kwargs)\u001b[39m\n\u001b[32m    621\u001b[39m     \u001b[38;5;66;03m# run in context\u001b[39;00m\n\u001b[32m    622\u001b[39m     \u001b[38;5;28;01mwith\u001b[39;00m set_config_context(config, run) \u001b[38;5;28;01mas\u001b[39;00m context:\n\u001b[32m--> \u001b[39m\u001b[32m623\u001b[39m         \u001b[38;5;28minput\u001b[39m = \u001b[43mcontext\u001b[49m\u001b[43m.\u001b[49m\u001b[43mrun\u001b[49m\u001b[43m(\u001b[49m\u001b[43mstep\u001b[49m\u001b[43m.\u001b[49m\u001b[43minvoke\u001b[49m\u001b[43m,\u001b[49m\u001b[43m \u001b[49m\u001b[38;5;28;43minput\u001b[39;49m\u001b[43m,\u001b[49m\u001b[43m \u001b[49m\u001b[43mconfig\u001b[49m\u001b[43m,\u001b[49m\u001b[43m \u001b[49m\u001b[43m*\u001b[49m\u001b[43m*\u001b[49m\u001b[43mkwargs\u001b[49m\u001b[43m)\u001b[49m\n\u001b[32m    624\u001b[39m \u001b[38;5;28;01melse\u001b[39;00m:\n\u001b[32m    625\u001b[39m     \u001b[38;5;28minput\u001b[39m = step.invoke(\u001b[38;5;28minput\u001b[39m, config)\n",
      "\u001b[36mFile \u001b[39m\u001b[32md:\\RentalShop\\.venv\\Lib\\site-packages\\langgraph\\utils\\runnable.py:377\u001b[39m, in \u001b[36mRunnableCallable.invoke\u001b[39m\u001b[34m(self, input, config, **kwargs)\u001b[39m\n\u001b[32m    375\u001b[39m         run_manager.on_chain_end(ret)\n\u001b[32m    376\u001b[39m \u001b[38;5;28;01melse\u001b[39;00m:\n\u001b[32m--> \u001b[39m\u001b[32m377\u001b[39m     ret = \u001b[38;5;28;43mself\u001b[39;49m\u001b[43m.\u001b[49m\u001b[43mfunc\u001b[49m\u001b[43m(\u001b[49m\u001b[43m*\u001b[49m\u001b[43margs\u001b[49m\u001b[43m,\u001b[49m\u001b[43m \u001b[49m\u001b[43m*\u001b[49m\u001b[43m*\u001b[49m\u001b[43mkwargs\u001b[49m\u001b[43m)\u001b[49m\n\u001b[32m    378\u001b[39m \u001b[38;5;28;01mif\u001b[39;00m \u001b[38;5;28mself\u001b[39m.recurse \u001b[38;5;129;01mand\u001b[39;00m \u001b[38;5;28misinstance\u001b[39m(ret, Runnable):\n\u001b[32m    379\u001b[39m     \u001b[38;5;28;01mreturn\u001b[39;00m ret.invoke(\u001b[38;5;28minput\u001b[39m, config)\n",
      "\u001b[36mCell\u001b[39m\u001b[36m \u001b[39m\u001b[32mIn[306]\u001b[39m\u001b[32m, line 79\u001b[39m, in \u001b[36magent_node\u001b[39m\u001b[34m(state)\u001b[39m\n\u001b[32m     77\u001b[39m     \u001b[38;5;28mprint\u001b[39m(\u001b[33m\"\u001b[39m\u001b[33m✅ Tools available - using normal prompt\u001b[39m\u001b[33m\"\u001b[39m)\n\u001b[32m     78\u001b[39m     formatted_messages = prompt.format_messages(messages=state[\u001b[33m\"\u001b[39m\u001b[33mmessages\u001b[39m\u001b[33m\"\u001b[39m])\n\u001b[32m---> \u001b[39m\u001b[32m79\u001b[39m     response = \u001b[43mchat_llm_with_tools\u001b[49m\u001b[43m.\u001b[49m\u001b[43minvoke\u001b[49m\u001b[43m(\u001b[49m\u001b[43mformatted_messages\u001b[49m\u001b[43m)\u001b[49m  \u001b[38;5;66;03m# Use chat_llm with tools\u001b[39;00m\n\u001b[32m     81\u001b[39m \u001b[38;5;28mprint\u001b[39m(\u001b[33mf\u001b[39m\u001b[33m\"\u001b[39m\u001b[33m🤖 AGENT RESPONSE: \u001b[39m\u001b[38;5;132;01m{\u001b[39;00mresponse.content[:\u001b[32m100\u001b[39m]\u001b[38;5;132;01m}\u001b[39;00m\u001b[33m...\u001b[39m\u001b[33m\"\u001b[39m)\n\u001b[32m     83\u001b[39m new_count = current_count\n",
      "\u001b[36mFile \u001b[39m\u001b[32md:\\RentalShop\\.venv\\Lib\\site-packages\\langchain_core\\runnables\\base.py:5431\u001b[39m, in \u001b[36mRunnableBindingBase.invoke\u001b[39m\u001b[34m(self, input, config, **kwargs)\u001b[39m\n\u001b[32m   5424\u001b[39m \u001b[38;5;129m@override\u001b[39m\n\u001b[32m   5425\u001b[39m \u001b[38;5;28;01mdef\u001b[39;00m\u001b[38;5;250m \u001b[39m\u001b[34minvoke\u001b[39m(\n\u001b[32m   5426\u001b[39m     \u001b[38;5;28mself\u001b[39m,\n\u001b[32m   (...)\u001b[39m\u001b[32m   5429\u001b[39m     **kwargs: Optional[Any],\n\u001b[32m   5430\u001b[39m ) -> Output:\n\u001b[32m-> \u001b[39m\u001b[32m5431\u001b[39m     \u001b[38;5;28;01mreturn\u001b[39;00m \u001b[38;5;28;43mself\u001b[39;49m\u001b[43m.\u001b[49m\u001b[43mbound\u001b[49m\u001b[43m.\u001b[49m\u001b[43minvoke\u001b[49m\u001b[43m(\u001b[49m\n\u001b[32m   5432\u001b[39m \u001b[43m        \u001b[49m\u001b[38;5;28;43minput\u001b[39;49m\u001b[43m,\u001b[49m\n\u001b[32m   5433\u001b[39m \u001b[43m        \u001b[49m\u001b[38;5;28;43mself\u001b[39;49m\u001b[43m.\u001b[49m\u001b[43m_merge_configs\u001b[49m\u001b[43m(\u001b[49m\u001b[43mconfig\u001b[49m\u001b[43m)\u001b[49m\u001b[43m,\u001b[49m\n\u001b[32m   5434\u001b[39m \u001b[43m        \u001b[49m\u001b[43m*\u001b[49m\u001b[43m*\u001b[49m\u001b[43m{\u001b[49m\u001b[43m*\u001b[49m\u001b[43m*\u001b[49m\u001b[38;5;28;43mself\u001b[39;49m\u001b[43m.\u001b[49m\u001b[43mkwargs\u001b[49m\u001b[43m,\u001b[49m\u001b[43m \u001b[49m\u001b[43m*\u001b[49m\u001b[43m*\u001b[49m\u001b[43mkwargs\u001b[49m\u001b[43m}\u001b[49m\u001b[43m,\u001b[49m\n\u001b[32m   5435\u001b[39m \u001b[43m    \u001b[49m\u001b[43m)\u001b[49m\n",
      "\u001b[36mFile \u001b[39m\u001b[32md:\\RentalShop\\.venv\\Lib\\site-packages\\langchain_core\\language_models\\chat_models.py:372\u001b[39m, in \u001b[36mBaseChatModel.invoke\u001b[39m\u001b[34m(self, input, config, stop, **kwargs)\u001b[39m\n\u001b[32m    360\u001b[39m \u001b[38;5;129m@override\u001b[39m\n\u001b[32m    361\u001b[39m \u001b[38;5;28;01mdef\u001b[39;00m\u001b[38;5;250m \u001b[39m\u001b[34minvoke\u001b[39m(\n\u001b[32m    362\u001b[39m     \u001b[38;5;28mself\u001b[39m,\n\u001b[32m   (...)\u001b[39m\u001b[32m    367\u001b[39m     **kwargs: Any,\n\u001b[32m    368\u001b[39m ) -> BaseMessage:\n\u001b[32m    369\u001b[39m     config = ensure_config(config)\n\u001b[32m    370\u001b[39m     \u001b[38;5;28;01mreturn\u001b[39;00m cast(\n\u001b[32m    371\u001b[39m         \u001b[33m\"\u001b[39m\u001b[33mChatGeneration\u001b[39m\u001b[33m\"\u001b[39m,\n\u001b[32m--> \u001b[39m\u001b[32m372\u001b[39m         \u001b[38;5;28;43mself\u001b[39;49m\u001b[43m.\u001b[49m\u001b[43mgenerate_prompt\u001b[49m\u001b[43m(\u001b[49m\n\u001b[32m    373\u001b[39m \u001b[43m            \u001b[49m\u001b[43m[\u001b[49m\u001b[38;5;28;43mself\u001b[39;49m\u001b[43m.\u001b[49m\u001b[43m_convert_input\u001b[49m\u001b[43m(\u001b[49m\u001b[38;5;28;43minput\u001b[39;49m\u001b[43m)\u001b[49m\u001b[43m]\u001b[49m\u001b[43m,\u001b[49m\n\u001b[32m    374\u001b[39m \u001b[43m            \u001b[49m\u001b[43mstop\u001b[49m\u001b[43m=\u001b[49m\u001b[43mstop\u001b[49m\u001b[43m,\u001b[49m\n\u001b[32m    375\u001b[39m \u001b[43m            \u001b[49m\u001b[43mcallbacks\u001b[49m\u001b[43m=\u001b[49m\u001b[43mconfig\u001b[49m\u001b[43m.\u001b[49m\u001b[43mget\u001b[49m\u001b[43m(\u001b[49m\u001b[33;43m\"\u001b[39;49m\u001b[33;43mcallbacks\u001b[39;49m\u001b[33;43m\"\u001b[39;49m\u001b[43m)\u001b[49m\u001b[43m,\u001b[49m\n\u001b[32m    376\u001b[39m \u001b[43m            \u001b[49m\u001b[43mtags\u001b[49m\u001b[43m=\u001b[49m\u001b[43mconfig\u001b[49m\u001b[43m.\u001b[49m\u001b[43mget\u001b[49m\u001b[43m(\u001b[49m\u001b[33;43m\"\u001b[39;49m\u001b[33;43mtags\u001b[39;49m\u001b[33;43m\"\u001b[39;49m\u001b[43m)\u001b[49m\u001b[43m,\u001b[49m\n\u001b[32m    377\u001b[39m \u001b[43m            \u001b[49m\u001b[43mmetadata\u001b[49m\u001b[43m=\u001b[49m\u001b[43mconfig\u001b[49m\u001b[43m.\u001b[49m\u001b[43mget\u001b[49m\u001b[43m(\u001b[49m\u001b[33;43m\"\u001b[39;49m\u001b[33;43mmetadata\u001b[39;49m\u001b[33;43m\"\u001b[39;49m\u001b[43m)\u001b[49m\u001b[43m,\u001b[49m\n\u001b[32m    378\u001b[39m \u001b[43m            \u001b[49m\u001b[43mrun_name\u001b[49m\u001b[43m=\u001b[49m\u001b[43mconfig\u001b[49m\u001b[43m.\u001b[49m\u001b[43mget\u001b[49m\u001b[43m(\u001b[49m\u001b[33;43m\"\u001b[39;49m\u001b[33;43mrun_name\u001b[39;49m\u001b[33;43m\"\u001b[39;49m\u001b[43m)\u001b[49m\u001b[43m,\u001b[49m\n\u001b[32m    379\u001b[39m \u001b[43m            \u001b[49m\u001b[43mrun_id\u001b[49m\u001b[43m=\u001b[49m\u001b[43mconfig\u001b[49m\u001b[43m.\u001b[49m\u001b[43mpop\u001b[49m\u001b[43m(\u001b[49m\u001b[33;43m\"\u001b[39;49m\u001b[33;43mrun_id\u001b[39;49m\u001b[33;43m\"\u001b[39;49m\u001b[43m,\u001b[49m\u001b[43m \u001b[49m\u001b[38;5;28;43;01mNone\u001b[39;49;00m\u001b[43m)\u001b[49m\u001b[43m,\u001b[49m\n\u001b[32m    380\u001b[39m \u001b[43m            \u001b[49m\u001b[43m*\u001b[49m\u001b[43m*\u001b[49m\u001b[43mkwargs\u001b[49m\u001b[43m,\u001b[49m\n\u001b[32m    381\u001b[39m \u001b[43m        \u001b[49m\u001b[43m)\u001b[49m.generations[\u001b[32m0\u001b[39m][\u001b[32m0\u001b[39m],\n\u001b[32m    382\u001b[39m     ).message\n",
      "\u001b[36mFile \u001b[39m\u001b[32md:\\RentalShop\\.venv\\Lib\\site-packages\\langchain_core\\language_models\\chat_models.py:957\u001b[39m, in \u001b[36mBaseChatModel.generate_prompt\u001b[39m\u001b[34m(self, prompts, stop, callbacks, **kwargs)\u001b[39m\n\u001b[32m    948\u001b[39m \u001b[38;5;129m@override\u001b[39m\n\u001b[32m    949\u001b[39m \u001b[38;5;28;01mdef\u001b[39;00m\u001b[38;5;250m \u001b[39m\u001b[34mgenerate_prompt\u001b[39m(\n\u001b[32m    950\u001b[39m     \u001b[38;5;28mself\u001b[39m,\n\u001b[32m   (...)\u001b[39m\u001b[32m    954\u001b[39m     **kwargs: Any,\n\u001b[32m    955\u001b[39m ) -> LLMResult:\n\u001b[32m    956\u001b[39m     prompt_messages = [p.to_messages() \u001b[38;5;28;01mfor\u001b[39;00m p \u001b[38;5;129;01min\u001b[39;00m prompts]\n\u001b[32m--> \u001b[39m\u001b[32m957\u001b[39m     \u001b[38;5;28;01mreturn\u001b[39;00m \u001b[38;5;28;43mself\u001b[39;49m\u001b[43m.\u001b[49m\u001b[43mgenerate\u001b[49m\u001b[43m(\u001b[49m\u001b[43mprompt_messages\u001b[49m\u001b[43m,\u001b[49m\u001b[43m \u001b[49m\u001b[43mstop\u001b[49m\u001b[43m=\u001b[49m\u001b[43mstop\u001b[49m\u001b[43m,\u001b[49m\u001b[43m \u001b[49m\u001b[43mcallbacks\u001b[49m\u001b[43m=\u001b[49m\u001b[43mcallbacks\u001b[49m\u001b[43m,\u001b[49m\u001b[43m \u001b[49m\u001b[43m*\u001b[49m\u001b[43m*\u001b[49m\u001b[43mkwargs\u001b[49m\u001b[43m)\u001b[49m\n",
      "\u001b[36mFile \u001b[39m\u001b[32md:\\RentalShop\\.venv\\Lib\\site-packages\\langchain_core\\language_models\\chat_models.py:776\u001b[39m, in \u001b[36mBaseChatModel.generate\u001b[39m\u001b[34m(self, messages, stop, callbacks, tags, metadata, run_name, run_id, **kwargs)\u001b[39m\n\u001b[32m    773\u001b[39m \u001b[38;5;28;01mfor\u001b[39;00m i, m \u001b[38;5;129;01min\u001b[39;00m \u001b[38;5;28menumerate\u001b[39m(input_messages):\n\u001b[32m    774\u001b[39m     \u001b[38;5;28;01mtry\u001b[39;00m:\n\u001b[32m    775\u001b[39m         results.append(\n\u001b[32m--> \u001b[39m\u001b[32m776\u001b[39m             \u001b[38;5;28;43mself\u001b[39;49m\u001b[43m.\u001b[49m\u001b[43m_generate_with_cache\u001b[49m\u001b[43m(\u001b[49m\n\u001b[32m    777\u001b[39m \u001b[43m                \u001b[49m\u001b[43mm\u001b[49m\u001b[43m,\u001b[49m\n\u001b[32m    778\u001b[39m \u001b[43m                \u001b[49m\u001b[43mstop\u001b[49m\u001b[43m=\u001b[49m\u001b[43mstop\u001b[49m\u001b[43m,\u001b[49m\n\u001b[32m    779\u001b[39m \u001b[43m                \u001b[49m\u001b[43mrun_manager\u001b[49m\u001b[43m=\u001b[49m\u001b[43mrun_managers\u001b[49m\u001b[43m[\u001b[49m\u001b[43mi\u001b[49m\u001b[43m]\u001b[49m\u001b[43m \u001b[49m\u001b[38;5;28;43;01mif\u001b[39;49;00m\u001b[43m \u001b[49m\u001b[43mrun_managers\u001b[49m\u001b[43m \u001b[49m\u001b[38;5;28;43;01melse\u001b[39;49;00m\u001b[43m \u001b[49m\u001b[38;5;28;43;01mNone\u001b[39;49;00m\u001b[43m,\u001b[49m\n\u001b[32m    780\u001b[39m \u001b[43m                \u001b[49m\u001b[43m*\u001b[49m\u001b[43m*\u001b[49m\u001b[43mkwargs\u001b[49m\u001b[43m,\u001b[49m\n\u001b[32m    781\u001b[39m \u001b[43m            \u001b[49m\u001b[43m)\u001b[49m\n\u001b[32m    782\u001b[39m         )\n\u001b[32m    783\u001b[39m     \u001b[38;5;28;01mexcept\u001b[39;00m \u001b[38;5;167;01mBaseException\u001b[39;00m \u001b[38;5;28;01mas\u001b[39;00m e:\n\u001b[32m    784\u001b[39m         \u001b[38;5;28;01mif\u001b[39;00m run_managers:\n",
      "\u001b[36mFile \u001b[39m\u001b[32md:\\RentalShop\\.venv\\Lib\\site-packages\\langchain_core\\language_models\\chat_models.py:1022\u001b[39m, in \u001b[36mBaseChatModel._generate_with_cache\u001b[39m\u001b[34m(self, messages, stop, run_manager, **kwargs)\u001b[39m\n\u001b[32m   1020\u001b[39m     result = generate_from_stream(\u001b[38;5;28miter\u001b[39m(chunks))\n\u001b[32m   1021\u001b[39m \u001b[38;5;28;01melif\u001b[39;00m inspect.signature(\u001b[38;5;28mself\u001b[39m._generate).parameters.get(\u001b[33m\"\u001b[39m\u001b[33mrun_manager\u001b[39m\u001b[33m\"\u001b[39m):\n\u001b[32m-> \u001b[39m\u001b[32m1022\u001b[39m     result = \u001b[38;5;28;43mself\u001b[39;49m\u001b[43m.\u001b[49m\u001b[43m_generate\u001b[49m\u001b[43m(\u001b[49m\n\u001b[32m   1023\u001b[39m \u001b[43m        \u001b[49m\u001b[43mmessages\u001b[49m\u001b[43m,\u001b[49m\u001b[43m \u001b[49m\u001b[43mstop\u001b[49m\u001b[43m=\u001b[49m\u001b[43mstop\u001b[49m\u001b[43m,\u001b[49m\u001b[43m \u001b[49m\u001b[43mrun_manager\u001b[49m\u001b[43m=\u001b[49m\u001b[43mrun_manager\u001b[49m\u001b[43m,\u001b[49m\u001b[43m \u001b[49m\u001b[43m*\u001b[49m\u001b[43m*\u001b[49m\u001b[43mkwargs\u001b[49m\n\u001b[32m   1024\u001b[39m \u001b[43m    \u001b[49m\u001b[43m)\u001b[49m\n\u001b[32m   1025\u001b[39m \u001b[38;5;28;01melse\u001b[39;00m:\n\u001b[32m   1026\u001b[39m     result = \u001b[38;5;28mself\u001b[39m._generate(messages, stop=stop, **kwargs)\n",
      "\u001b[36mFile \u001b[39m\u001b[32md:\\RentalShop\\.venv\\Lib\\site-packages\\langchain_huggingface\\chat_models\\huggingface.py:574\u001b[39m, in \u001b[36mChatHuggingFace._generate\u001b[39m\u001b[34m(self, messages, stop, run_manager, stream, **kwargs)\u001b[39m\n\u001b[32m    567\u001b[39m     message_dicts, params = \u001b[38;5;28mself\u001b[39m._create_message_dicts(messages, stop)\n\u001b[32m    568\u001b[39m     params = {\n\u001b[32m    569\u001b[39m         \u001b[33m\"\u001b[39m\u001b[33mstop\u001b[39m\u001b[33m\"\u001b[39m: stop,\n\u001b[32m    570\u001b[39m         **params,\n\u001b[32m    571\u001b[39m         **({\u001b[33m\"\u001b[39m\u001b[33mstream\u001b[39m\u001b[33m\"\u001b[39m: stream} \u001b[38;5;28;01mif\u001b[39;00m stream \u001b[38;5;129;01mis\u001b[39;00m \u001b[38;5;129;01mnot\u001b[39;00m \u001b[38;5;28;01mNone\u001b[39;00m \u001b[38;5;28;01melse\u001b[39;00m {}),\n\u001b[32m    572\u001b[39m         **kwargs,\n\u001b[32m    573\u001b[39m     }\n\u001b[32m--> \u001b[39m\u001b[32m574\u001b[39m     answer = \u001b[38;5;28;43mself\u001b[39;49m\u001b[43m.\u001b[49m\u001b[43mllm\u001b[49m\u001b[43m.\u001b[49m\u001b[43mclient\u001b[49m\u001b[43m.\u001b[49m\u001b[43mchat_completion\u001b[49m\u001b[43m(\u001b[49m\u001b[43mmessages\u001b[49m\u001b[43m=\u001b[49m\u001b[43mmessage_dicts\u001b[49m\u001b[43m,\u001b[49m\u001b[43m \u001b[49m\u001b[43m*\u001b[49m\u001b[43m*\u001b[49m\u001b[43mparams\u001b[49m\u001b[43m)\u001b[49m\n\u001b[32m    575\u001b[39m     \u001b[38;5;28;01mreturn\u001b[39;00m \u001b[38;5;28mself\u001b[39m._create_chat_result(answer)\n\u001b[32m    576\u001b[39m \u001b[38;5;28;01melse\u001b[39;00m:\n",
      "\u001b[36mFile \u001b[39m\u001b[32md:\\RentalShop\\.venv\\Lib\\site-packages\\huggingface_hub\\inference\\_client.py:924\u001b[39m, in \u001b[36mInferenceClient.chat_completion\u001b[39m\u001b[34m(self, messages, model, stream, frequency_penalty, logit_bias, logprobs, max_tokens, n, presence_penalty, response_format, seed, stop, stream_options, temperature, tool_choice, tool_prompt, tools, top_logprobs, top_p, extra_body)\u001b[39m\n\u001b[32m    896\u001b[39m parameters = {\n\u001b[32m    897\u001b[39m     \u001b[33m\"\u001b[39m\u001b[33mmodel\u001b[39m\u001b[33m\"\u001b[39m: payload_model,\n\u001b[32m    898\u001b[39m     \u001b[33m\"\u001b[39m\u001b[33mfrequency_penalty\u001b[39m\u001b[33m\"\u001b[39m: frequency_penalty,\n\u001b[32m   (...)\u001b[39m\u001b[32m    915\u001b[39m     **(extra_body \u001b[38;5;129;01mor\u001b[39;00m {}),\n\u001b[32m    916\u001b[39m }\n\u001b[32m    917\u001b[39m request_parameters = provider_helper.prepare_request(\n\u001b[32m    918\u001b[39m     inputs=messages,\n\u001b[32m    919\u001b[39m     parameters=parameters,\n\u001b[32m   (...)\u001b[39m\u001b[32m    922\u001b[39m     api_key=\u001b[38;5;28mself\u001b[39m.token,\n\u001b[32m    923\u001b[39m )\n\u001b[32m--> \u001b[39m\u001b[32m924\u001b[39m data = \u001b[38;5;28;43mself\u001b[39;49m\u001b[43m.\u001b[49m\u001b[43m_inner_post\u001b[49m\u001b[43m(\u001b[49m\u001b[43mrequest_parameters\u001b[49m\u001b[43m,\u001b[49m\u001b[43m \u001b[49m\u001b[43mstream\u001b[49m\u001b[43m=\u001b[49m\u001b[43mstream\u001b[49m\u001b[43m)\u001b[49m\n\u001b[32m    926\u001b[39m \u001b[38;5;28;01mif\u001b[39;00m stream:\n\u001b[32m    927\u001b[39m     \u001b[38;5;28;01mreturn\u001b[39;00m _stream_chat_completion_response(data)  \u001b[38;5;66;03m# type: ignore[arg-type]\u001b[39;00m\n",
      "\u001b[36mFile \u001b[39m\u001b[32md:\\RentalShop\\.venv\\Lib\\site-packages\\huggingface_hub\\inference\\_client.py:280\u001b[39m, in \u001b[36mInferenceClient._inner_post\u001b[39m\u001b[34m(self, request_parameters, stream)\u001b[39m\n\u001b[32m    277\u001b[39m         \u001b[38;5;28;01mraise\u001b[39;00m InferenceTimeoutError(\u001b[33mf\u001b[39m\u001b[33m\"\u001b[39m\u001b[33mInference call timed out: \u001b[39m\u001b[38;5;132;01m{\u001b[39;00mrequest_parameters.url\u001b[38;5;132;01m}\u001b[39;00m\u001b[33m\"\u001b[39m) \u001b[38;5;28;01mfrom\u001b[39;00m\u001b[38;5;250m \u001b[39m\u001b[34;01merror\u001b[39;00m  \u001b[38;5;66;03m# type: ignore\u001b[39;00m\n\u001b[32m    279\u001b[39m \u001b[38;5;28;01mtry\u001b[39;00m:\n\u001b[32m--> \u001b[39m\u001b[32m280\u001b[39m     \u001b[43mhf_raise_for_status\u001b[49m\u001b[43m(\u001b[49m\u001b[43mresponse\u001b[49m\u001b[43m)\u001b[49m\n\u001b[32m    281\u001b[39m     \u001b[38;5;28;01mreturn\u001b[39;00m response.iter_lines() \u001b[38;5;28;01mif\u001b[39;00m stream \u001b[38;5;28;01melse\u001b[39;00m response.content\n\u001b[32m    282\u001b[39m \u001b[38;5;28;01mexcept\u001b[39;00m HTTPError \u001b[38;5;28;01mas\u001b[39;00m error:\n",
      "\u001b[36mFile \u001b[39m\u001b[32md:\\RentalShop\\.venv\\Lib\\site-packages\\huggingface_hub\\utils\\_http.py:482\u001b[39m, in \u001b[36mhf_raise_for_status\u001b[39m\u001b[34m(response, endpoint_name)\u001b[39m\n\u001b[32m    478\u001b[39m     \u001b[38;5;28;01mraise\u001b[39;00m _format(HfHubHTTPError, message, response) \u001b[38;5;28;01mfrom\u001b[39;00m\u001b[38;5;250m \u001b[39m\u001b[34;01me\u001b[39;00m\n\u001b[32m    480\u001b[39m \u001b[38;5;66;03m# Convert `HTTPError` into a `HfHubHTTPError` to display request information\u001b[39;00m\n\u001b[32m    481\u001b[39m \u001b[38;5;66;03m# as well (request id and/or server error message)\u001b[39;00m\n\u001b[32m--> \u001b[39m\u001b[32m482\u001b[39m \u001b[38;5;28;01mraise\u001b[39;00m _format(HfHubHTTPError, \u001b[38;5;28mstr\u001b[39m(e), response) \u001b[38;5;28;01mfrom\u001b[39;00m\u001b[38;5;250m \u001b[39m\u001b[34;01me\u001b[39;00m\n",
      "\u001b[31mHfHubHTTPError\u001b[39m: 422 Client Error: Unprocessable Entity for url: https://router.huggingface.co/hf-inference/models/mistralai/Mixtral-8x7B-Instruct-v0.1/v1/chat/completions (Request ID: Root=1-6849ea3c-43483dbe77e0b17d7dc20486;8ac04aa7-ed7c-41cf-a6c8-f7adb8a33a45)\n\nTemplate error: syntax error: After the optional system message, conversation roles must alternate user/assistant/user/assistant/... (in <string>:11)\n{\"error\":\"Template error: syntax error: After the optional system message, conversation roles must alternate user/assistant/user/assistant/... (in <string>:11)\",\"error_type\":\"template_error\"}\n",
      "During task with name 'agent' and id '2344ccbe-a392-54be-2c3e-2f7de4a3a36b'"
     ]
    }
   ],
   "source": [
    "import uuid\n",
    "\n",
    "user_questions = [\n",
    "    \"Hello\",\n",
    "    #  Before Renting - Vehicle Search & Comparison\n",
    "    \"Which cars are automatic and seat at least 5 people?\",\n",
    "\n",
    "    # Before Renting - Availability & Booking\n",
    "    \"Is the Mahindra Scorpio available this weekend?\",\n",
    "\n",
    "    # During Renting - Issues\n",
    "    \"The vehicle is making noise, what should I do?\",\n",
    "\n",
    "    \"I want a stylish vehicle for a short city visit.\"\n",
    "]\n",
    "\n",
    "for question in user_questions:\n",
    "    config = {\"configurable\": {\"thread_id\": str(uuid.uuid4())}}\n",
    "    agent_graph.update_state(config, {\"messages\": []})\n",
    "    for step in agent_graph.stream(\n",
    "       {\"messages\":[HumanMessage(content=question)]},\n",
    "        config,\n",
    "        stream_mode=\"values\",\n",
    "    ):\n",
    "        print(f\"📝 Current messages count: {len(step['messages'])}\")\n",
    "        step[\"messages\"][-1].pretty_print()\n",
    "        print(\"-\" * 30)\n",
    "    agent_graph.update_state(config, {\"messages\": []})\n",
    "\n",
    "    \n",
    "    "
   ]
  }
 ],
 "metadata": {
  "kernelspec": {
   "display_name": ".venv",
   "language": "python",
   "name": "python3"
  },
  "language_info": {
   "codemirror_mode": {
    "name": "ipython",
    "version": 3
   },
   "file_extension": ".py",
   "mimetype": "text/x-python",
   "name": "python",
   "nbconvert_exporter": "python",
   "pygments_lexer": "ipython3",
   "version": "3.13.4"
  }
 },
 "nbformat": 4,
 "nbformat_minor": 2
}
