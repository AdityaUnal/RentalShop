{
 "cells": [
  {
   "cell_type": "markdown",
   "metadata": {},
   "source": [
    "# Basic Chatbot\n",
    "- This is a simple chatbot that answers basic questions\n",
    "- It is also able to do basic tasks\n"
   ]
  },
  {
   "cell_type": "code",
   "execution_count": 1,
   "metadata": {},
   "outputs": [],
   "source": [
    "import os\n",
    "import getpass\n",
    "\n",
    "\n",
    "def _set_env(var: str):\n",
    "    if not os.environ.get(var):\n",
    "        os.environ[var] = getpass.getpass(f\"{var}: \")\n",
    "\n",
    "\n",
    "_set_env(\"HUGGING_FACE_API_KEY\")\n",
    "_set_env(\"TAVILY_API_KEY\")"
   ]
  },
  {
   "cell_type": "markdown",
   "metadata": {},
   "source": [
    "## Populating the database\n",
    "- The following script populates the sqlite database for the vehicle information"
   ]
  },
  {
   "cell_type": "code",
   "execution_count": 2,
   "metadata": {},
   "outputs": [],
   "source": [
    "import os\n",
    "import shutil\n",
    "import sqlite3\n",
    "\n",
    "import pandas as pd\n",
    "import requests"
   ]
  },
  {
   "cell_type": "code",
   "execution_count": 8,
   "metadata": {},
   "outputs": [
    {
     "name": "stdout",
     "output_type": "stream",
     "text": [
      "Using existing vehicledb.sqlite\n"
     ]
    },
    {
     "ename": "DatabaseError",
     "evalue": "file is not a database",
     "output_type": "error",
     "traceback": [
      "\u001b[31m---------------------------------------------------------------------------\u001b[39m",
      "\u001b[31mDatabaseError\u001b[39m                             Traceback (most recent call last)",
      "\u001b[36mCell\u001b[39m\u001b[36m \u001b[39m\u001b[32mIn[8]\u001b[39m\u001b[32m, line 113\u001b[39m\n\u001b[32m    111\u001b[39m     \u001b[38;5;28;01mbreak\u001b[39;00m\n\u001b[32m    112\u001b[39m vehicle_data = get_vehicle_data()\n\u001b[32m--> \u001b[39m\u001b[32m113\u001b[39m \u001b[43madd_vehicle\u001b[49m\u001b[43m(\u001b[49m\u001b[43mlocal_file\u001b[49m\u001b[43m,\u001b[49m\u001b[43mvehicle_data\u001b[49m\u001b[43m)\u001b[49m\n",
      "\u001b[36mCell\u001b[39m\u001b[36m \u001b[39m\u001b[32mIn[8]\u001b[39m\u001b[32m, line 80\u001b[39m, in \u001b[36madd_vehicle\u001b[39m\u001b[34m(file, vehicle_data)\u001b[39m\n\u001b[32m     77\u001b[39m conn = sqlite3.connect(file)\n\u001b[32m     78\u001b[39m cursor = conn.cursor()\n\u001b[32m---> \u001b[39m\u001b[32m80\u001b[39m \u001b[43mcursor\u001b[49m\u001b[43m.\u001b[49m\u001b[43mexecute\u001b[49m\u001b[43m(\u001b[49m\u001b[33;43m\"\"\"\u001b[39;49m\n\u001b[32m     81\u001b[39m \u001b[33;43mCREATE TABLE IF NOT EXISTS vehicles (\u001b[39;49m\n\u001b[32m     82\u001b[39m \u001b[33;43m    vehicle_id TEXT PRIMARY KEY,\u001b[39;49m\n\u001b[32m     83\u001b[39m \u001b[33;43m    vehicle_name TEXT,\u001b[39;49m\n\u001b[32m     84\u001b[39m \u001b[33;43m    vehicle_type TEXT\u001b[39;49m\n\u001b[32m     85\u001b[39m \u001b[33;43m    vehicle_wheel_count INTEGER,\u001b[39;49m\n\u001b[32m     86\u001b[39m \u001b[33;43m    vehicle_gear_count TEXT,\u001b[39;49m\n\u001b[32m     87\u001b[39m \u001b[33;43m    vehicle_price_per_day REAL,\u001b[39;49m\n\u001b[32m     88\u001b[39m \u001b[33;43m    vehicle_price_per_hour REAL,\u001b[39;49m\n\u001b[32m     89\u001b[39m \u001b[33;43m    vehicle_description TEXT,\u001b[39;49m\n\u001b[32m     90\u001b[39m \u001b[33;43m    vehicle_mileage REAL,\u001b[39;49m\n\u001b[32m     91\u001b[39m \u001b[33;43m    vehicle_fuel_type TEXT,\u001b[39;49m\n\u001b[32m     92\u001b[39m \u001b[33;43m    vehicle_transmission TEXT,\u001b[39;49m\n\u001b[32m     93\u001b[39m \u001b[33;43m    vehicle_seating_capacity INTEGER,\u001b[39;49m\n\u001b[32m     94\u001b[39m \u001b[33;43m    vehicle_user_rating REAL,\u001b[39;49m\n\u001b[32m     95\u001b[39m \u001b[33;43m    vehicle_user_feedback TEXT\u001b[39;49m\n\u001b[32m     96\u001b[39m \u001b[33;43m    )\u001b[39;49m\n\u001b[32m     97\u001b[39m \u001b[33;43m\u001b[39;49m\u001b[33;43m\"\"\"\u001b[39;49m\u001b[43m)\u001b[49m\n\u001b[32m     98\u001b[39m columns = \u001b[33m'\u001b[39m\u001b[33m, \u001b[39m\u001b[33m'\u001b[39m.join(vehicle_data.keys())\n\u001b[32m     99\u001b[39m placeholders = \u001b[33m'\u001b[39m\u001b[33m, \u001b[39m\u001b[33m'\u001b[39m.join([\u001b[33m'\u001b[39m\u001b[33m?\u001b[39m\u001b[33m'\u001b[39m] * \u001b[38;5;28mlen\u001b[39m(vehicle_data))\n",
      "\u001b[31mDatabaseError\u001b[39m: file is not a database"
     ]
    }
   ],
   "source": [
    "vehicledb_url = \"https://raw.githubusercontent.com/AdityaUnal/dbRentalShop/refs/heads/main/vehicledb.sqlite?token=GHSAT0AAAAAADECLLHCGSRZNWZ3D7QVVSP42CI3TEQ\"\n",
    "local_file = \"vehicledb.sqlite\"\n",
    "overwrite = False\n",
    "if overwrite or not os.path.exists(local_file):\n",
    "    print(f\"Downloading {vehicledb_url} to {local_file}\")\n",
    "    response = requests.get(vehicledb_url)\n",
    "    with open(local_file, \"wb\") as f:\n",
    "        f.write(response.content)\n",
    "else:\n",
    "    print(f\"Using existing {local_file}\")\n",
    "\n",
    "def get_vehicle_data():\n",
    "    try:\n",
    "        vehicle_id = input(\"Vehicle ID: \").strip()\n",
    "        if not vehicle_id:\n",
    "            raise ValueError(\"Vehicle ID is required.\")\n",
    "\n",
    "        vehicle_name = input(\"Vehicle Name: \").strip()\n",
    "        if not vehicle_name:\n",
    "            raise ValueError(\"Vehicle Name is required.\")\n",
    "\n",
    "        type = input(\"Vehicle Type (Car/Bike/Scooty): \").strip()\n",
    "        vehicle_type = type if type else \"Scooty\"\n",
    "\n",
    "        wheel_input = input(\"Wheel Count (e.g. 2, 4): \").strip()\n",
    "        vehicle_wheel_count = int(wheel_input) if wheel_input else 2  # default to 2 wheels\n",
    "\n",
    "        gear_count = input(\"Gear Count: \").strip()\n",
    "        vehicle_gear_count = gear_count if gear_count else \"manual\"\n",
    "\n",
    "        price_day_input = input(\"Price per Day: \").strip()\n",
    "        vehicle_price_per_day = float(price_day_input) if price_day_input else 500.0\n",
    "\n",
    "        price_hour_input = input(\"Price per Hour: \").strip()\n",
    "        vehicle_price_per_hour = float(price_hour_input) if price_hour_input else 50.0\n",
    "\n",
    "        vehicle_description = input(\"Description: \").strip() or \"No description available\"\n",
    "\n",
    "        mileage_input = input(\"Mileage (km/l): \").strip()\n",
    "        vehicle_mileage = float(mileage_input) if mileage_input else 30.0\n",
    "\n",
    "\n",
    "        fuel_type = input(\"Fuel Type: \").strip()\n",
    "        vehicle_fuel_type = fuel_type if fuel_type else \"petrol\"\n",
    "\n",
    "        transmission = input(\"Transmission (manual/auto/none): \").strip()\n",
    "        vehicle_transmission = transmission if transmission else \"manual\"\n",
    "\n",
    "        seating_input = input(\"Seating Capacity: \").strip()\n",
    "        vehicle_seating_capacity = int(seating_input) if seating_input else 2\n",
    "\n",
    "\n",
    "        return {\n",
    "            \"vehicle_id\": vehicle_id,\n",
    "            \"vehicle_name\": vehicle_name,\n",
    "            \"vehicle_type\": vehicle_type,\n",
    "            \"vehicle_wheel_count\": vehicle_wheel_count,\n",
    "            \"vehicle_gear_count\": vehicle_gear_count,\n",
    "            \"vehicle_price_per_day\": vehicle_price_per_day,\n",
    "            \"vehicle_price_per_hour\": vehicle_price_per_hour,\n",
    "            \"vehicle_description\": vehicle_description,\n",
    "            \"vehicle_mileage\": vehicle_mileage,\n",
    "            \"vehicle_fuel_type\": vehicle_fuel_type,\n",
    "            \"vehicle_transmission\": vehicle_transmission,\n",
    "            \"vehicle_seating_capacity\": vehicle_seating_capacity,\n",
    "        }\n",
    "\n",
    "    except ValueError as ve:\n",
    "        print(f\"\\n Invalid input: {ve}\")\n",
    "        return None\n",
    "    except Exception as e:\n",
    "        print(f\"\\n Unexpected error: {e}\")\n",
    "        return None\n",
    "\n",
    "\n",
    "def add_vehicle(file,vehicle_data):\n",
    "    conn = sqlite3.connect(file)\n",
    "    cursor = conn.cursor()\n",
    "    \n",
    "    cursor.execute(\"\"\"\n",
    "    CREATE TABLE IF NOT EXISTS vehicles (\n",
    "        vehicle_id TEXT PRIMARY KEY,\n",
    "        vehicle_name TEXT,\n",
    "        vehicle_type TEXT\n",
    "        vehicle_wheel_count INTEGER,\n",
    "        vehicle_gear_count TEXT,\n",
    "        vehicle_price_per_day REAL,\n",
    "        vehicle_price_per_hour REAL,\n",
    "        vehicle_description TEXT,\n",
    "        vehicle_mileage REAL,\n",
    "        vehicle_fuel_type TEXT,\n",
    "        vehicle_transmission TEXT,\n",
    "        vehicle_seating_capacity INTEGER,\n",
    "        vehicle_user_rating REAL,\n",
    "        vehicle_user_feedback TEXT\n",
    "        )\n",
    "    \"\"\")\n",
    "    columns = ', '.join(vehicle_data.keys())\n",
    "    placeholders = ', '.join(['?'] * len(vehicle_data))\n",
    "    values = tuple(vehicle_data.values())\n",
    "    cursor.execute(\n",
    "        f\"INSERT OR IGNORE INTO vehicles ({columns}) VALUES ({placeholders})\",\n",
    "        values\n",
    "    )\n",
    "    conn.commit()\n",
    "    conn.close()\n",
    "\n",
    "while True:\n",
    "    again = input(\"Do you want to add a vehicle? (yes/no): \").strip().lower()\n",
    "    if again != \"yes\":\n",
    "        break\n",
    "    vehicle_data = get_vehicle_data()\n",
    "    add_vehicle(local_file,vehicle_data)\n",
    "\n"
   ]
  },
  {
   "cell_type": "markdown",
   "metadata": {},
   "source": [
    "Displays the existing vehicles in the db"
   ]
  },
  {
   "cell_type": "code",
   "execution_count": 9,
   "metadata": {},
   "outputs": [
    {
     "ename": "DatabaseError",
     "evalue": "Execution failed on sql 'SELECT * FROM vehicles': file is not a database",
     "output_type": "error",
     "traceback": [
      "\u001b[31m---------------------------------------------------------------------------\u001b[39m",
      "\u001b[31mDatabaseError\u001b[39m                             Traceback (most recent call last)",
      "\u001b[36mFile \u001b[39m\u001b[32md:\\RentalShop\\.venv\\Lib\\site-packages\\pandas\\io\\sql.py:2664\u001b[39m, in \u001b[36mSQLiteDatabase.execute\u001b[39m\u001b[34m(self, sql, params)\u001b[39m\n\u001b[32m   2663\u001b[39m \u001b[38;5;28;01mtry\u001b[39;00m:\n\u001b[32m-> \u001b[39m\u001b[32m2664\u001b[39m     \u001b[43mcur\u001b[49m\u001b[43m.\u001b[49m\u001b[43mexecute\u001b[49m\u001b[43m(\u001b[49m\u001b[43msql\u001b[49m\u001b[43m,\u001b[49m\u001b[43m \u001b[49m\u001b[43m*\u001b[49m\u001b[43margs\u001b[49m\u001b[43m)\u001b[49m\n\u001b[32m   2665\u001b[39m     \u001b[38;5;28;01mreturn\u001b[39;00m cur\n",
      "\u001b[31mDatabaseError\u001b[39m: file is not a database",
      "\nThe above exception was the direct cause of the following exception:\n",
      "\u001b[31mDatabaseError\u001b[39m                             Traceback (most recent call last)",
      "\u001b[36mCell\u001b[39m\u001b[36m \u001b[39m\u001b[32mIn[9]\u001b[39m\u001b[32m, line 4\u001b[39m\n\u001b[32m      1\u001b[39m \u001b[38;5;28;01mfrom\u001b[39;00m\u001b[38;5;250m \u001b[39m\u001b[34;01mtabulate\u001b[39;00m\u001b[38;5;250m \u001b[39m\u001b[38;5;28;01mimport\u001b[39;00m tabulate\n\u001b[32m      3\u001b[39m conn = sqlite3.connect(\u001b[33m\"\u001b[39m\u001b[33mvehicledb.sqlite\u001b[39m\u001b[33m\"\u001b[39m)\n\u001b[32m----> \u001b[39m\u001b[32m4\u001b[39m df = \u001b[43mpd\u001b[49m\u001b[43m.\u001b[49m\u001b[43mread_sql\u001b[49m\u001b[43m(\u001b[49m\u001b[33;43m\"\u001b[39;49m\u001b[33;43mSELECT * FROM vehicles\u001b[39;49m\u001b[33;43m\"\u001b[39;49m\u001b[43m,\u001b[49m\u001b[43m \u001b[49m\u001b[43mconn\u001b[49m\u001b[43m)\u001b[49m\n\u001b[32m      5\u001b[39m conn.close()\n\u001b[32m      7\u001b[39m \u001b[38;5;28mprint\u001b[39m(tabulate(df, headers=\u001b[33m'\u001b[39m\u001b[33mkeys\u001b[39m\u001b[33m'\u001b[39m, tablefmt=\u001b[33m'\u001b[39m\u001b[33mpsql\u001b[39m\u001b[33m'\u001b[39m))  \u001b[38;5;66;03m# or 'fancy_grid', 'grid'\u001b[39;00m\n",
      "\u001b[36mFile \u001b[39m\u001b[32md:\\RentalShop\\.venv\\Lib\\site-packages\\pandas\\io\\sql.py:708\u001b[39m, in \u001b[36mread_sql\u001b[39m\u001b[34m(sql, con, index_col, coerce_float, params, parse_dates, columns, chunksize, dtype_backend, dtype)\u001b[39m\n\u001b[32m    706\u001b[39m \u001b[38;5;28;01mwith\u001b[39;00m pandasSQL_builder(con) \u001b[38;5;28;01mas\u001b[39;00m pandas_sql:\n\u001b[32m    707\u001b[39m     \u001b[38;5;28;01mif\u001b[39;00m \u001b[38;5;28misinstance\u001b[39m(pandas_sql, SQLiteDatabase):\n\u001b[32m--> \u001b[39m\u001b[32m708\u001b[39m         \u001b[38;5;28;01mreturn\u001b[39;00m \u001b[43mpandas_sql\u001b[49m\u001b[43m.\u001b[49m\u001b[43mread_query\u001b[49m\u001b[43m(\u001b[49m\n\u001b[32m    709\u001b[39m \u001b[43m            \u001b[49m\u001b[43msql\u001b[49m\u001b[43m,\u001b[49m\n\u001b[32m    710\u001b[39m \u001b[43m            \u001b[49m\u001b[43mindex_col\u001b[49m\u001b[43m=\u001b[49m\u001b[43mindex_col\u001b[49m\u001b[43m,\u001b[49m\n\u001b[32m    711\u001b[39m \u001b[43m            \u001b[49m\u001b[43mparams\u001b[49m\u001b[43m=\u001b[49m\u001b[43mparams\u001b[49m\u001b[43m,\u001b[49m\n\u001b[32m    712\u001b[39m \u001b[43m            \u001b[49m\u001b[43mcoerce_float\u001b[49m\u001b[43m=\u001b[49m\u001b[43mcoerce_float\u001b[49m\u001b[43m,\u001b[49m\n\u001b[32m    713\u001b[39m \u001b[43m            \u001b[49m\u001b[43mparse_dates\u001b[49m\u001b[43m=\u001b[49m\u001b[43mparse_dates\u001b[49m\u001b[43m,\u001b[49m\n\u001b[32m    714\u001b[39m \u001b[43m            \u001b[49m\u001b[43mchunksize\u001b[49m\u001b[43m=\u001b[49m\u001b[43mchunksize\u001b[49m\u001b[43m,\u001b[49m\n\u001b[32m    715\u001b[39m \u001b[43m            \u001b[49m\u001b[43mdtype_backend\u001b[49m\u001b[43m=\u001b[49m\u001b[43mdtype_backend\u001b[49m\u001b[43m,\u001b[49m\n\u001b[32m    716\u001b[39m \u001b[43m            \u001b[49m\u001b[43mdtype\u001b[49m\u001b[43m=\u001b[49m\u001b[43mdtype\u001b[49m\u001b[43m,\u001b[49m\n\u001b[32m    717\u001b[39m \u001b[43m        \u001b[49m\u001b[43m)\u001b[49m\n\u001b[32m    719\u001b[39m     \u001b[38;5;28;01mtry\u001b[39;00m:\n\u001b[32m    720\u001b[39m         _is_table_name = pandas_sql.has_table(sql)\n",
      "\u001b[36mFile \u001b[39m\u001b[32md:\\RentalShop\\.venv\\Lib\\site-packages\\pandas\\io\\sql.py:2728\u001b[39m, in \u001b[36mSQLiteDatabase.read_query\u001b[39m\u001b[34m(self, sql, index_col, coerce_float, parse_dates, params, chunksize, dtype, dtype_backend)\u001b[39m\n\u001b[32m   2717\u001b[39m \u001b[38;5;28;01mdef\u001b[39;00m\u001b[38;5;250m \u001b[39m\u001b[34mread_query\u001b[39m(\n\u001b[32m   2718\u001b[39m     \u001b[38;5;28mself\u001b[39m,\n\u001b[32m   2719\u001b[39m     sql,\n\u001b[32m   (...)\u001b[39m\u001b[32m   2726\u001b[39m     dtype_backend: DtypeBackend | Literal[\u001b[33m\"\u001b[39m\u001b[33mnumpy\u001b[39m\u001b[33m\"\u001b[39m] = \u001b[33m\"\u001b[39m\u001b[33mnumpy\u001b[39m\u001b[33m\"\u001b[39m,\n\u001b[32m   2727\u001b[39m ) -> DataFrame | Iterator[DataFrame]:\n\u001b[32m-> \u001b[39m\u001b[32m2728\u001b[39m     cursor = \u001b[38;5;28;43mself\u001b[39;49m\u001b[43m.\u001b[49m\u001b[43mexecute\u001b[49m\u001b[43m(\u001b[49m\u001b[43msql\u001b[49m\u001b[43m,\u001b[49m\u001b[43m \u001b[49m\u001b[43mparams\u001b[49m\u001b[43m)\u001b[49m\n\u001b[32m   2729\u001b[39m     columns = [col_desc[\u001b[32m0\u001b[39m] \u001b[38;5;28;01mfor\u001b[39;00m col_desc \u001b[38;5;129;01min\u001b[39;00m cursor.description]\n\u001b[32m   2731\u001b[39m     \u001b[38;5;28;01mif\u001b[39;00m chunksize \u001b[38;5;129;01mis\u001b[39;00m \u001b[38;5;129;01mnot\u001b[39;00m \u001b[38;5;28;01mNone\u001b[39;00m:\n",
      "\u001b[36mFile \u001b[39m\u001b[32md:\\RentalShop\\.venv\\Lib\\site-packages\\pandas\\io\\sql.py:2676\u001b[39m, in \u001b[36mSQLiteDatabase.execute\u001b[39m\u001b[34m(self, sql, params)\u001b[39m\n\u001b[32m   2673\u001b[39m     \u001b[38;5;28;01mraise\u001b[39;00m ex \u001b[38;5;28;01mfrom\u001b[39;00m\u001b[38;5;250m \u001b[39m\u001b[34;01minner_exc\u001b[39;00m\n\u001b[32m   2675\u001b[39m ex = DatabaseError(\u001b[33mf\u001b[39m\u001b[33m\"\u001b[39m\u001b[33mExecution failed on sql \u001b[39m\u001b[33m'\u001b[39m\u001b[38;5;132;01m{\u001b[39;00msql\u001b[38;5;132;01m}\u001b[39;00m\u001b[33m'\u001b[39m\u001b[33m: \u001b[39m\u001b[38;5;132;01m{\u001b[39;00mexc\u001b[38;5;132;01m}\u001b[39;00m\u001b[33m\"\u001b[39m)\n\u001b[32m-> \u001b[39m\u001b[32m2676\u001b[39m \u001b[38;5;28;01mraise\u001b[39;00m ex \u001b[38;5;28;01mfrom\u001b[39;00m\u001b[38;5;250m \u001b[39m\u001b[34;01mexc\u001b[39;00m\n",
      "\u001b[31mDatabaseError\u001b[39m: Execution failed on sql 'SELECT * FROM vehicles': file is not a database"
     ]
    }
   ],
   "source": [
    "from tabulate import tabulate\n",
    "\n",
    "conn = sqlite3.connect(\"vehicledb.sqlite\")\n",
    "df = pd.read_sql(\"SELECT * FROM vehicles\", conn)\n",
    "conn.close()\n",
    "\n",
    "print(tabulate(df, headers='keys', tablefmt='psql'))  # or 'fancy_grid', 'grid'\n"
   ]
  },
  {
   "cell_type": "markdown",
   "metadata": {},
   "source": [
    "## Tools\n",
    "- We define the tools of our chatbot\n",
    "- These tools will help in vehicle recommendation, repairs, user feedback of the vehicle"
   ]
  },
  {
   "cell_type": "markdown",
   "metadata": {},
   "source": [
    "### Vehicle Recommendation\n",
    "- Based on the user's travel destination, travel budget, weather, the feedback on vehicle"
   ]
  },
  {
   "cell_type": "code",
   "execution_count": null,
   "metadata": {},
   "outputs": [],
   "source": []
  }
 ],
 "metadata": {
  "kernelspec": {
   "display_name": ".venv",
   "language": "python",
   "name": "python3"
  },
  "language_info": {
   "codemirror_mode": {
    "name": "ipython",
    "version": 3
   },
   "file_extension": ".py",
   "mimetype": "text/x-python",
   "name": "python",
   "nbconvert_exporter": "python",
   "pygments_lexer": "ipython3",
   "version": "3.13.4"
  }
 },
 "nbformat": 4,
 "nbformat_minor": 2
}
